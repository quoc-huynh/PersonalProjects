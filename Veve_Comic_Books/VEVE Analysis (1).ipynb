{
 "cells": [
  {
   "cell_type": "code",
   "execution_count": 1,
   "metadata": {},
   "outputs": [],
   "source": [
    "import pandas as pd\n",
    "import numpy as np\n",
    "import seaborn as sns\n",
    "import matplotlib.pyplot as plt\n",
    "import seaborn as sns\n",
    "%matplotlib inline\n",
    "import sklearn\n",
    "import warnings\n",
    "warnings.filterwarnings(\"ignore\")"
   ]
  },
  {
   "cell_type": "code",
   "execution_count": 9,
   "metadata": {},
   "outputs": [
    {
     "data": {
      "text/html": [
       "<div>\n",
       "<style scoped>\n",
       "    .dataframe tbody tr th:only-of-type {\n",
       "        vertical-align: middle;\n",
       "    }\n",
       "\n",
       "    .dataframe tbody tr th {\n",
       "        vertical-align: top;\n",
       "    }\n",
       "\n",
       "    .dataframe thead th {\n",
       "        text-align: right;\n",
       "    }\n",
       "</style>\n",
       "<table border=\"1\" class=\"dataframe\">\n",
       "  <thead>\n",
       "    <tr style=\"text-align: right;\">\n",
       "      <th></th>\n",
       "      <th>NFT</th>\n",
       "      <th>Rarity</th>\n",
       "      <th>Quantity</th>\n",
       "      <th>Veve Price</th>\n",
       "      <th>% Gain from Veve Price</th>\n",
       "      <th>Recent Price Movement</th>\n",
       "      <th>Trend!</th>\n",
       "      <th>12/1</th>\n",
       "      <th>11/24</th>\n",
       "      <th>11/16</th>\n",
       "      <th>...</th>\n",
       "      <th>9/23</th>\n",
       "      <th>9/19</th>\n",
       "      <th>9/18</th>\n",
       "      <th>9/17</th>\n",
       "      <th>9/15</th>\n",
       "      <th>9/12</th>\n",
       "      <th>9/9</th>\n",
       "      <th>9/3</th>\n",
       "      <th>8/29</th>\n",
       "      <th>8/26</th>\n",
       "    </tr>\n",
       "  </thead>\n",
       "  <tbody>\n",
       "    <tr>\n",
       "      <th>0</th>\n",
       "      <td>Marvel Comics: Classic</td>\n",
       "      <td>Common</td>\n",
       "      <td>48000</td>\n",
       "      <td>$ 6.99</td>\n",
       "      <td>1187.55%</td>\n",
       "      <td>0.00%</td>\n",
       "      <td>NaN</td>\n",
       "      <td>$ 90.00</td>\n",
       "      <td>$ 90.00</td>\n",
       "      <td>$ 75.00</td>\n",
       "      <td>...</td>\n",
       "      <td>$ 64.00</td>\n",
       "      <td>$ 65.00</td>\n",
       "      <td>$ 58.00</td>\n",
       "      <td>$ 62.00</td>\n",
       "      <td>$ 36.00</td>\n",
       "      <td>$ 35.00</td>\n",
       "      <td>$ 15.00</td>\n",
       "      <td>$ 16.00</td>\n",
       "      <td>$ 14.00</td>\n",
       "      <td>$ 10.00</td>\n",
       "    </tr>\n",
       "    <tr>\n",
       "      <th>1</th>\n",
       "      <td>Marvel Comics: Vintage</td>\n",
       "      <td>Uncommon</td>\n",
       "      <td>6000</td>\n",
       "      <td>$ 6.99</td>\n",
       "      <td>2475.11%</td>\n",
       "      <td>-12.20%</td>\n",
       "      <td>NaN</td>\n",
       "      <td>$ 180.00</td>\n",
       "      <td>$ 205.00</td>\n",
       "      <td>$ 174.00</td>\n",
       "      <td>...</td>\n",
       "      <td>$ 217.00</td>\n",
       "      <td>$ 154.00</td>\n",
       "      <td>$ 109.00</td>\n",
       "      <td>$ 129.00</td>\n",
       "      <td>$ 82.00</td>\n",
       "      <td>$ 86.00</td>\n",
       "      <td>$ 28.00</td>\n",
       "      <td>$ 33.00</td>\n",
       "      <td>$ 25.00</td>\n",
       "      <td>$ 24.00</td>\n",
       "    </tr>\n",
       "    <tr>\n",
       "      <th>2</th>\n",
       "      <td>Marvel Comics: Hero</td>\n",
       "      <td>Rare</td>\n",
       "      <td>3000</td>\n",
       "      <td>$ 6.99</td>\n",
       "      <td>5550.93%</td>\n",
       "      <td>-15.42%</td>\n",
       "      <td>NaN</td>\n",
       "      <td>$ 395.00</td>\n",
       "      <td>$ 467.00</td>\n",
       "      <td>$ 625.00</td>\n",
       "      <td>...</td>\n",
       "      <td>$ 660.00</td>\n",
       "      <td>$ 345.00</td>\n",
       "      <td>$ 320.00</td>\n",
       "      <td>$ 274.00</td>\n",
       "      <td>$ 269.00</td>\n",
       "      <td>$ 286.00</td>\n",
       "      <td>$ 138.00</td>\n",
       "      <td>$ 150.00</td>\n",
       "      <td>$ 63.00</td>\n",
       "      <td>$ 60.00</td>\n",
       "    </tr>\n",
       "    <tr>\n",
       "      <th>3</th>\n",
       "      <td>Marvel Comics: Vibranium</td>\n",
       "      <td>Ultra Rare</td>\n",
       "      <td>2400</td>\n",
       "      <td>$ 6.99</td>\n",
       "      <td>15622.46%</td>\n",
       "      <td>-26.19%</td>\n",
       "      <td>NaN</td>\n",
       "      <td>$ 1,099.00</td>\n",
       "      <td>$ 1,489.00</td>\n",
       "      <td>$ 1,399.00</td>\n",
       "      <td>...</td>\n",
       "      <td>$ 2,199.00</td>\n",
       "      <td>$ 889.00</td>\n",
       "      <td>$ 715.00</td>\n",
       "      <td>$ 750.00</td>\n",
       "      <td>$ 605.00</td>\n",
       "      <td>$ 725.00</td>\n",
       "      <td>$ 290.00</td>\n",
       "      <td>$ 443.00</td>\n",
       "      <td>$ 160.00</td>\n",
       "      <td>$ 165.00</td>\n",
       "    </tr>\n",
       "    <tr>\n",
       "      <th>4</th>\n",
       "      <td>Marvel Comics: True Believer</td>\n",
       "      <td>Secret Rare</td>\n",
       "      <td>600</td>\n",
       "      <td>$ 6.99</td>\n",
       "      <td>429070.24%</td>\n",
       "      <td>-13.01%</td>\n",
       "      <td>NaN</td>\n",
       "      <td>$ 29,999.00</td>\n",
       "      <td>$ 34,485.00</td>\n",
       "      <td>$ 30,000.00</td>\n",
       "      <td>...</td>\n",
       "      <td>$ 40,000.00</td>\n",
       "      <td>$ 19,000.00</td>\n",
       "      <td>$ 14,450.00</td>\n",
       "      <td>$ 13,999.00</td>\n",
       "      <td>$ 14,500.00</td>\n",
       "      <td>$ 13,777.00</td>\n",
       "      <td>$ 14,999.00</td>\n",
       "      <td>$ 18,000.00</td>\n",
       "      <td>$ 6,500.00</td>\n",
       "      <td>$ 3,450.00</td>\n",
       "    </tr>\n",
       "    <tr>\n",
       "      <th>...</th>\n",
       "      <td>...</td>\n",
       "      <td>...</td>\n",
       "      <td>...</td>\n",
       "      <td>...</td>\n",
       "      <td>...</td>\n",
       "      <td>...</td>\n",
       "      <td>...</td>\n",
       "      <td>...</td>\n",
       "      <td>...</td>\n",
       "      <td>...</td>\n",
       "      <td>...</td>\n",
       "      <td>...</td>\n",
       "      <td>...</td>\n",
       "      <td>...</td>\n",
       "      <td>...</td>\n",
       "      <td>...</td>\n",
       "      <td>...</td>\n",
       "      <td>...</td>\n",
       "      <td>...</td>\n",
       "      <td>...</td>\n",
       "      <td>...</td>\n",
       "    </tr>\n",
       "    <tr>\n",
       "      <th>165</th>\n",
       "      <td>Uncanny X-Men #129: Classic</td>\n",
       "      <td>Common</td>\n",
       "      <td>21000</td>\n",
       "      <td>$ 6.99</td>\n",
       "      <td>28.76%</td>\n",
       "      <td>NaN</td>\n",
       "      <td>NaN</td>\n",
       "      <td>$ 9.00</td>\n",
       "      <td>NaN</td>\n",
       "      <td>NaN</td>\n",
       "      <td>...</td>\n",
       "      <td>NaN</td>\n",
       "      <td>NaN</td>\n",
       "      <td>NaN</td>\n",
       "      <td>NaN</td>\n",
       "      <td>NaN</td>\n",
       "      <td>NaN</td>\n",
       "      <td>NaN</td>\n",
       "      <td>NaN</td>\n",
       "      <td>NaN</td>\n",
       "      <td>NaN</td>\n",
       "    </tr>\n",
       "    <tr>\n",
       "      <th>166</th>\n",
       "      <td>Uncanny X-Men #129: Vintage</td>\n",
       "      <td>Uncommon</td>\n",
       "      <td>5000</td>\n",
       "      <td>$ 6.99</td>\n",
       "      <td>114.59%</td>\n",
       "      <td>NaN</td>\n",
       "      <td>NaN</td>\n",
       "      <td>$ 15.00</td>\n",
       "      <td>NaN</td>\n",
       "      <td>NaN</td>\n",
       "      <td>...</td>\n",
       "      <td>NaN</td>\n",
       "      <td>NaN</td>\n",
       "      <td>NaN</td>\n",
       "      <td>NaN</td>\n",
       "      <td>NaN</td>\n",
       "      <td>NaN</td>\n",
       "      <td>NaN</td>\n",
       "      <td>NaN</td>\n",
       "      <td>NaN</td>\n",
       "      <td>NaN</td>\n",
       "    </tr>\n",
       "    <tr>\n",
       "      <th>167</th>\n",
       "      <td>Uncanny X-Men #129: Hero</td>\n",
       "      <td>Rare</td>\n",
       "      <td>2350</td>\n",
       "      <td>$ 6.99</td>\n",
       "      <td>472.25%</td>\n",
       "      <td>NaN</td>\n",
       "      <td>NaN</td>\n",
       "      <td>$ 40.00</td>\n",
       "      <td>NaN</td>\n",
       "      <td>NaN</td>\n",
       "      <td>...</td>\n",
       "      <td>NaN</td>\n",
       "      <td>NaN</td>\n",
       "      <td>NaN</td>\n",
       "      <td>NaN</td>\n",
       "      <td>NaN</td>\n",
       "      <td>NaN</td>\n",
       "      <td>NaN</td>\n",
       "      <td>NaN</td>\n",
       "      <td>NaN</td>\n",
       "      <td>NaN</td>\n",
       "    </tr>\n",
       "    <tr>\n",
       "      <th>168</th>\n",
       "      <td>Uncanny X-Men #129: Vibranium</td>\n",
       "      <td>Ultra Rare</td>\n",
       "      <td>1050</td>\n",
       "      <td>$ 6.99</td>\n",
       "      <td>1430.76%</td>\n",
       "      <td>NaN</td>\n",
       "      <td>NaN</td>\n",
       "      <td>$ 107.00</td>\n",
       "      <td>NaN</td>\n",
       "      <td>NaN</td>\n",
       "      <td>...</td>\n",
       "      <td>NaN</td>\n",
       "      <td>NaN</td>\n",
       "      <td>NaN</td>\n",
       "      <td>NaN</td>\n",
       "      <td>NaN</td>\n",
       "      <td>NaN</td>\n",
       "      <td>NaN</td>\n",
       "      <td>NaN</td>\n",
       "      <td>NaN</td>\n",
       "      <td>NaN</td>\n",
       "    </tr>\n",
       "    <tr>\n",
       "      <th>169</th>\n",
       "      <td>Uncanny X-Men #129: True Believer</td>\n",
       "      <td>Secret Rare</td>\n",
       "      <td>600</td>\n",
       "      <td>$ 6.99</td>\n",
       "      <td>6123.18%</td>\n",
       "      <td>NaN</td>\n",
       "      <td>NaN</td>\n",
       "      <td>$ 435.00</td>\n",
       "      <td>NaN</td>\n",
       "      <td>NaN</td>\n",
       "      <td>...</td>\n",
       "      <td>NaN</td>\n",
       "      <td>NaN</td>\n",
       "      <td>NaN</td>\n",
       "      <td>NaN</td>\n",
       "      <td>NaN</td>\n",
       "      <td>NaN</td>\n",
       "      <td>NaN</td>\n",
       "      <td>NaN</td>\n",
       "      <td>NaN</td>\n",
       "      <td>NaN</td>\n",
       "    </tr>\n",
       "  </tbody>\n",
       "</table>\n",
       "<p>170 rows × 27 columns</p>\n",
       "</div>"
      ],
      "text/plain": [
       "                                   NFT       Rarity  Quantity Veve Price  \\\n",
       "0               Marvel Comics: Classic       Common     48000    $ 6.99    \n",
       "1               Marvel Comics: Vintage     Uncommon      6000    $ 6.99    \n",
       "2                  Marvel Comics: Hero         Rare      3000    $ 6.99    \n",
       "3             Marvel Comics: Vibranium   Ultra Rare      2400    $ 6.99    \n",
       "4         Marvel Comics: True Believer  Secret Rare       600    $ 6.99    \n",
       "..                                 ...          ...       ...        ...   \n",
       "165        Uncanny X-Men #129: Classic       Common     21000    $ 6.99    \n",
       "166        Uncanny X-Men #129: Vintage     Uncommon      5000    $ 6.99    \n",
       "167           Uncanny X-Men #129: Hero         Rare      2350    $ 6.99    \n",
       "168      Uncanny X-Men #129: Vibranium   Ultra Rare      1050    $ 6.99    \n",
       "169  Uncanny X-Men #129: True Believer  Secret Rare       600    $ 6.99    \n",
       "\n",
       "    % Gain from Veve Price Recent Price Movement  Trend!           12/1  \\\n",
       "0                 1187.55%                 0.00%     NaN       $ 90.00    \n",
       "1                 2475.11%               -12.20%     NaN      $ 180.00    \n",
       "2                 5550.93%               -15.42%     NaN      $ 395.00    \n",
       "3                15622.46%               -26.19%     NaN    $ 1,099.00    \n",
       "4               429070.24%               -13.01%     NaN   $ 29,999.00    \n",
       "..                     ...                   ...     ...            ...   \n",
       "165                 28.76%                   NaN     NaN        $ 9.00    \n",
       "166                114.59%                   NaN     NaN       $ 15.00    \n",
       "167                472.25%                   NaN     NaN       $ 40.00    \n",
       "168               1430.76%                   NaN     NaN      $ 107.00    \n",
       "169               6123.18%                   NaN     NaN      $ 435.00    \n",
       "\n",
       "             11/24          11/16  ...           9/23           9/19  \\\n",
       "0         $ 90.00        $ 75.00   ...       $ 64.00        $ 65.00    \n",
       "1        $ 205.00       $ 174.00   ...      $ 217.00       $ 154.00    \n",
       "2        $ 467.00       $ 625.00   ...      $ 660.00       $ 345.00    \n",
       "3      $ 1,489.00     $ 1,399.00   ...    $ 2,199.00       $ 889.00    \n",
       "4     $ 34,485.00    $ 30,000.00   ...   $ 40,000.00    $ 19,000.00    \n",
       "..             ...            ...  ...            ...            ...   \n",
       "165            NaN            NaN  ...            NaN            NaN   \n",
       "166            NaN            NaN  ...            NaN            NaN   \n",
       "167            NaN            NaN  ...            NaN            NaN   \n",
       "168            NaN            NaN  ...            NaN            NaN   \n",
       "169            NaN            NaN  ...            NaN            NaN   \n",
       "\n",
       "              9/18           9/17           9/15           9/12  \\\n",
       "0         $ 58.00        $ 62.00        $ 36.00        $ 35.00    \n",
       "1        $ 109.00       $ 129.00        $ 82.00        $ 86.00    \n",
       "2        $ 320.00       $ 274.00       $ 269.00       $ 286.00    \n",
       "3        $ 715.00       $ 750.00       $ 605.00       $ 725.00    \n",
       "4     $ 14,450.00    $ 13,999.00    $ 14,500.00    $ 13,777.00    \n",
       "..             ...            ...            ...            ...   \n",
       "165            NaN            NaN            NaN            NaN   \n",
       "166            NaN            NaN            NaN            NaN   \n",
       "167            NaN            NaN            NaN            NaN   \n",
       "168            NaN            NaN            NaN            NaN   \n",
       "169            NaN            NaN            NaN            NaN   \n",
       "\n",
       "               9/9            9/3          8/29          8/26  \n",
       "0         $ 15.00        $ 16.00       $ 14.00       $ 10.00   \n",
       "1         $ 28.00        $ 33.00       $ 25.00       $ 24.00   \n",
       "2        $ 138.00       $ 150.00       $ 63.00       $ 60.00   \n",
       "3        $ 290.00       $ 443.00      $ 160.00      $ 165.00   \n",
       "4     $ 14,999.00    $ 18,000.00    $ 6,500.00    $ 3,450.00   \n",
       "..             ...            ...           ...           ...  \n",
       "165            NaN            NaN           NaN           NaN  \n",
       "166            NaN            NaN           NaN           NaN  \n",
       "167            NaN            NaN           NaN           NaN  \n",
       "168            NaN            NaN           NaN           NaN  \n",
       "169            NaN            NaN           NaN           NaN  \n",
       "\n",
       "[170 rows x 27 columns]"
      ]
     },
     "execution_count": 9,
     "metadata": {},
     "output_type": "execute_result"
    }
   ],
   "source": [
    "# INITIAL DATA \n",
    "df = pd.read_csv(\"VeVe NFT Spreadsheet.csv\")\n",
    "df"
   ]
  },
  {
   "cell_type": "code",
   "execution_count": 29,
   "metadata": {},
   "outputs": [],
   "source": [
    "# CLEANING THE DATA\n",
    "def clean_data(df):\n",
    "    df_copy = df.copy()\n",
    "    df_copy[\"Rarity\"] = df_copy[\"Rarity\"].replace({\"Common\":1, \"Uncommon\":2, \"Rare\":3, \"Ultra Rare\":4, \"Secret Rare\": 5})\n",
    "    new_df = df_copy.loc[:, df.columns != \"NFT\"]\n",
    "    for x in new_df.columns:\n",
    "        if isinstance(new_df[x][0], str):\n",
    "            if \"%\" in new_df[x][0]:\n",
    "                new_df[x] = new_df[x].str.rstrip('%').astype('float') / 100.0\n",
    "            else:\n",
    "                new_df[x] = new_df[x].str.replace('$', '')\n",
    "                new_df[x] = new_df[x].str.replace(',', '')\n",
    "                new_df[x] = new_df[x].astype(float)\n",
    "    new_df.insert(0,'NFT',df_copy[\"NFT\"])\n",
    "    new_df = new_df.drop(columns=['Trend!']).fillna(0)\n",
    "    return new_df"
   ]
  },
  {
   "cell_type": "code",
   "execution_count": 30,
   "metadata": {},
   "outputs": [
    {
     "data": {
      "text/html": [
       "<div>\n",
       "<style scoped>\n",
       "    .dataframe tbody tr th:only-of-type {\n",
       "        vertical-align: middle;\n",
       "    }\n",
       "\n",
       "    .dataframe tbody tr th {\n",
       "        vertical-align: top;\n",
       "    }\n",
       "\n",
       "    .dataframe thead th {\n",
       "        text-align: right;\n",
       "    }\n",
       "</style>\n",
       "<table border=\"1\" class=\"dataframe\">\n",
       "  <thead>\n",
       "    <tr style=\"text-align: right;\">\n",
       "      <th></th>\n",
       "      <th>NFT</th>\n",
       "      <th>Rarity</th>\n",
       "      <th>Quantity</th>\n",
       "      <th>Veve Price</th>\n",
       "      <th>% Gain from Veve Price</th>\n",
       "      <th>Recent Price Movement</th>\n",
       "      <th>12/1</th>\n",
       "      <th>11/24</th>\n",
       "      <th>11/16</th>\n",
       "      <th>11/9</th>\n",
       "      <th>...</th>\n",
       "      <th>9/23</th>\n",
       "      <th>9/19</th>\n",
       "      <th>9/18</th>\n",
       "      <th>9/17</th>\n",
       "      <th>9/15</th>\n",
       "      <th>9/12</th>\n",
       "      <th>9/9</th>\n",
       "      <th>9/3</th>\n",
       "      <th>8/29</th>\n",
       "      <th>8/26</th>\n",
       "    </tr>\n",
       "  </thead>\n",
       "  <tbody>\n",
       "    <tr>\n",
       "      <th>0</th>\n",
       "      <td>Marvel Comics: Classic</td>\n",
       "      <td>1</td>\n",
       "      <td>48000</td>\n",
       "      <td>6.99</td>\n",
       "      <td>11.8755</td>\n",
       "      <td>0.0000</td>\n",
       "      <td>90.0</td>\n",
       "      <td>90.0</td>\n",
       "      <td>75.0</td>\n",
       "      <td>52.0</td>\n",
       "      <td>...</td>\n",
       "      <td>64.0</td>\n",
       "      <td>65.0</td>\n",
       "      <td>58.0</td>\n",
       "      <td>62.0</td>\n",
       "      <td>36.0</td>\n",
       "      <td>35.0</td>\n",
       "      <td>15.0</td>\n",
       "      <td>16.0</td>\n",
       "      <td>14.0</td>\n",
       "      <td>10.0</td>\n",
       "    </tr>\n",
       "    <tr>\n",
       "      <th>1</th>\n",
       "      <td>Marvel Comics: Vintage</td>\n",
       "      <td>2</td>\n",
       "      <td>6000</td>\n",
       "      <td>6.99</td>\n",
       "      <td>24.7511</td>\n",
       "      <td>-0.1220</td>\n",
       "      <td>180.0</td>\n",
       "      <td>205.0</td>\n",
       "      <td>174.0</td>\n",
       "      <td>108.0</td>\n",
       "      <td>...</td>\n",
       "      <td>217.0</td>\n",
       "      <td>154.0</td>\n",
       "      <td>109.0</td>\n",
       "      <td>129.0</td>\n",
       "      <td>82.0</td>\n",
       "      <td>86.0</td>\n",
       "      <td>28.0</td>\n",
       "      <td>33.0</td>\n",
       "      <td>25.0</td>\n",
       "      <td>24.0</td>\n",
       "    </tr>\n",
       "    <tr>\n",
       "      <th>2</th>\n",
       "      <td>Marvel Comics: Hero</td>\n",
       "      <td>3</td>\n",
       "      <td>3000</td>\n",
       "      <td>6.99</td>\n",
       "      <td>55.5093</td>\n",
       "      <td>-0.1542</td>\n",
       "      <td>395.0</td>\n",
       "      <td>467.0</td>\n",
       "      <td>625.0</td>\n",
       "      <td>298.0</td>\n",
       "      <td>...</td>\n",
       "      <td>660.0</td>\n",
       "      <td>345.0</td>\n",
       "      <td>320.0</td>\n",
       "      <td>274.0</td>\n",
       "      <td>269.0</td>\n",
       "      <td>286.0</td>\n",
       "      <td>138.0</td>\n",
       "      <td>150.0</td>\n",
       "      <td>63.0</td>\n",
       "      <td>60.0</td>\n",
       "    </tr>\n",
       "    <tr>\n",
       "      <th>3</th>\n",
       "      <td>Marvel Comics: Vibranium</td>\n",
       "      <td>4</td>\n",
       "      <td>2400</td>\n",
       "      <td>6.99</td>\n",
       "      <td>156.2246</td>\n",
       "      <td>-0.2619</td>\n",
       "      <td>1099.0</td>\n",
       "      <td>1489.0</td>\n",
       "      <td>1399.0</td>\n",
       "      <td>1099.0</td>\n",
       "      <td>...</td>\n",
       "      <td>2199.0</td>\n",
       "      <td>889.0</td>\n",
       "      <td>715.0</td>\n",
       "      <td>750.0</td>\n",
       "      <td>605.0</td>\n",
       "      <td>725.0</td>\n",
       "      <td>290.0</td>\n",
       "      <td>443.0</td>\n",
       "      <td>160.0</td>\n",
       "      <td>165.0</td>\n",
       "    </tr>\n",
       "    <tr>\n",
       "      <th>4</th>\n",
       "      <td>Marvel Comics: True Believer</td>\n",
       "      <td>5</td>\n",
       "      <td>600</td>\n",
       "      <td>6.99</td>\n",
       "      <td>4290.7024</td>\n",
       "      <td>-0.1301</td>\n",
       "      <td>29999.0</td>\n",
       "      <td>34485.0</td>\n",
       "      <td>30000.0</td>\n",
       "      <td>41999.0</td>\n",
       "      <td>...</td>\n",
       "      <td>40000.0</td>\n",
       "      <td>19000.0</td>\n",
       "      <td>14450.0</td>\n",
       "      <td>13999.0</td>\n",
       "      <td>14500.0</td>\n",
       "      <td>13777.0</td>\n",
       "      <td>14999.0</td>\n",
       "      <td>18000.0</td>\n",
       "      <td>6500.0</td>\n",
       "      <td>3450.0</td>\n",
       "    </tr>\n",
       "    <tr>\n",
       "      <th>...</th>\n",
       "      <td>...</td>\n",
       "      <td>...</td>\n",
       "      <td>...</td>\n",
       "      <td>...</td>\n",
       "      <td>...</td>\n",
       "      <td>...</td>\n",
       "      <td>...</td>\n",
       "      <td>...</td>\n",
       "      <td>...</td>\n",
       "      <td>...</td>\n",
       "      <td>...</td>\n",
       "      <td>...</td>\n",
       "      <td>...</td>\n",
       "      <td>...</td>\n",
       "      <td>...</td>\n",
       "      <td>...</td>\n",
       "      <td>...</td>\n",
       "      <td>...</td>\n",
       "      <td>...</td>\n",
       "      <td>...</td>\n",
       "      <td>...</td>\n",
       "    </tr>\n",
       "    <tr>\n",
       "      <th>165</th>\n",
       "      <td>Uncanny X-Men #129: Classic</td>\n",
       "      <td>1</td>\n",
       "      <td>21000</td>\n",
       "      <td>6.99</td>\n",
       "      <td>0.2876</td>\n",
       "      <td>0.0000</td>\n",
       "      <td>9.0</td>\n",
       "      <td>0.0</td>\n",
       "      <td>0.0</td>\n",
       "      <td>0.0</td>\n",
       "      <td>...</td>\n",
       "      <td>0.0</td>\n",
       "      <td>0.0</td>\n",
       "      <td>0.0</td>\n",
       "      <td>0.0</td>\n",
       "      <td>0.0</td>\n",
       "      <td>0.0</td>\n",
       "      <td>0.0</td>\n",
       "      <td>0.0</td>\n",
       "      <td>0.0</td>\n",
       "      <td>0.0</td>\n",
       "    </tr>\n",
       "    <tr>\n",
       "      <th>166</th>\n",
       "      <td>Uncanny X-Men #129: Vintage</td>\n",
       "      <td>2</td>\n",
       "      <td>5000</td>\n",
       "      <td>6.99</td>\n",
       "      <td>1.1459</td>\n",
       "      <td>0.0000</td>\n",
       "      <td>15.0</td>\n",
       "      <td>0.0</td>\n",
       "      <td>0.0</td>\n",
       "      <td>0.0</td>\n",
       "      <td>...</td>\n",
       "      <td>0.0</td>\n",
       "      <td>0.0</td>\n",
       "      <td>0.0</td>\n",
       "      <td>0.0</td>\n",
       "      <td>0.0</td>\n",
       "      <td>0.0</td>\n",
       "      <td>0.0</td>\n",
       "      <td>0.0</td>\n",
       "      <td>0.0</td>\n",
       "      <td>0.0</td>\n",
       "    </tr>\n",
       "    <tr>\n",
       "      <th>167</th>\n",
       "      <td>Uncanny X-Men #129: Hero</td>\n",
       "      <td>3</td>\n",
       "      <td>2350</td>\n",
       "      <td>6.99</td>\n",
       "      <td>4.7225</td>\n",
       "      <td>0.0000</td>\n",
       "      <td>40.0</td>\n",
       "      <td>0.0</td>\n",
       "      <td>0.0</td>\n",
       "      <td>0.0</td>\n",
       "      <td>...</td>\n",
       "      <td>0.0</td>\n",
       "      <td>0.0</td>\n",
       "      <td>0.0</td>\n",
       "      <td>0.0</td>\n",
       "      <td>0.0</td>\n",
       "      <td>0.0</td>\n",
       "      <td>0.0</td>\n",
       "      <td>0.0</td>\n",
       "      <td>0.0</td>\n",
       "      <td>0.0</td>\n",
       "    </tr>\n",
       "    <tr>\n",
       "      <th>168</th>\n",
       "      <td>Uncanny X-Men #129: Vibranium</td>\n",
       "      <td>4</td>\n",
       "      <td>1050</td>\n",
       "      <td>6.99</td>\n",
       "      <td>14.3076</td>\n",
       "      <td>0.0000</td>\n",
       "      <td>107.0</td>\n",
       "      <td>0.0</td>\n",
       "      <td>0.0</td>\n",
       "      <td>0.0</td>\n",
       "      <td>...</td>\n",
       "      <td>0.0</td>\n",
       "      <td>0.0</td>\n",
       "      <td>0.0</td>\n",
       "      <td>0.0</td>\n",
       "      <td>0.0</td>\n",
       "      <td>0.0</td>\n",
       "      <td>0.0</td>\n",
       "      <td>0.0</td>\n",
       "      <td>0.0</td>\n",
       "      <td>0.0</td>\n",
       "    </tr>\n",
       "    <tr>\n",
       "      <th>169</th>\n",
       "      <td>Uncanny X-Men #129: True Believer</td>\n",
       "      <td>5</td>\n",
       "      <td>600</td>\n",
       "      <td>6.99</td>\n",
       "      <td>61.2318</td>\n",
       "      <td>0.0000</td>\n",
       "      <td>435.0</td>\n",
       "      <td>0.0</td>\n",
       "      <td>0.0</td>\n",
       "      <td>0.0</td>\n",
       "      <td>...</td>\n",
       "      <td>0.0</td>\n",
       "      <td>0.0</td>\n",
       "      <td>0.0</td>\n",
       "      <td>0.0</td>\n",
       "      <td>0.0</td>\n",
       "      <td>0.0</td>\n",
       "      <td>0.0</td>\n",
       "      <td>0.0</td>\n",
       "      <td>0.0</td>\n",
       "      <td>0.0</td>\n",
       "    </tr>\n",
       "  </tbody>\n",
       "</table>\n",
       "<p>170 rows × 26 columns</p>\n",
       "</div>"
      ],
      "text/plain": [
       "                                   NFT  Rarity  Quantity  Veve Price  \\\n",
       "0               Marvel Comics: Classic       1     48000        6.99   \n",
       "1               Marvel Comics: Vintage       2      6000        6.99   \n",
       "2                  Marvel Comics: Hero       3      3000        6.99   \n",
       "3             Marvel Comics: Vibranium       4      2400        6.99   \n",
       "4         Marvel Comics: True Believer       5       600        6.99   \n",
       "..                                 ...     ...       ...         ...   \n",
       "165        Uncanny X-Men #129: Classic       1     21000        6.99   \n",
       "166        Uncanny X-Men #129: Vintage       2      5000        6.99   \n",
       "167           Uncanny X-Men #129: Hero       3      2350        6.99   \n",
       "168      Uncanny X-Men #129: Vibranium       4      1050        6.99   \n",
       "169  Uncanny X-Men #129: True Believer       5       600        6.99   \n",
       "\n",
       "     % Gain from Veve Price  Recent Price Movement     12/1    11/24    11/16  \\\n",
       "0                   11.8755                 0.0000     90.0     90.0     75.0   \n",
       "1                   24.7511                -0.1220    180.0    205.0    174.0   \n",
       "2                   55.5093                -0.1542    395.0    467.0    625.0   \n",
       "3                  156.2246                -0.2619   1099.0   1489.0   1399.0   \n",
       "4                 4290.7024                -0.1301  29999.0  34485.0  30000.0   \n",
       "..                      ...                    ...      ...      ...      ...   \n",
       "165                  0.2876                 0.0000      9.0      0.0      0.0   \n",
       "166                  1.1459                 0.0000     15.0      0.0      0.0   \n",
       "167                  4.7225                 0.0000     40.0      0.0      0.0   \n",
       "168                 14.3076                 0.0000    107.0      0.0      0.0   \n",
       "169                 61.2318                 0.0000    435.0      0.0      0.0   \n",
       "\n",
       "        11/9  ...     9/23     9/19     9/18     9/17     9/15     9/12  \\\n",
       "0       52.0  ...     64.0     65.0     58.0     62.0     36.0     35.0   \n",
       "1      108.0  ...    217.0    154.0    109.0    129.0     82.0     86.0   \n",
       "2      298.0  ...    660.0    345.0    320.0    274.0    269.0    286.0   \n",
       "3     1099.0  ...   2199.0    889.0    715.0    750.0    605.0    725.0   \n",
       "4    41999.0  ...  40000.0  19000.0  14450.0  13999.0  14500.0  13777.0   \n",
       "..       ...  ...      ...      ...      ...      ...      ...      ...   \n",
       "165      0.0  ...      0.0      0.0      0.0      0.0      0.0      0.0   \n",
       "166      0.0  ...      0.0      0.0      0.0      0.0      0.0      0.0   \n",
       "167      0.0  ...      0.0      0.0      0.0      0.0      0.0      0.0   \n",
       "168      0.0  ...      0.0      0.0      0.0      0.0      0.0      0.0   \n",
       "169      0.0  ...      0.0      0.0      0.0      0.0      0.0      0.0   \n",
       "\n",
       "         9/9      9/3    8/29    8/26  \n",
       "0       15.0     16.0    14.0    10.0  \n",
       "1       28.0     33.0    25.0    24.0  \n",
       "2      138.0    150.0    63.0    60.0  \n",
       "3      290.0    443.0   160.0   165.0  \n",
       "4    14999.0  18000.0  6500.0  3450.0  \n",
       "..       ...      ...     ...     ...  \n",
       "165      0.0      0.0     0.0     0.0  \n",
       "166      0.0      0.0     0.0     0.0  \n",
       "167      0.0      0.0     0.0     0.0  \n",
       "168      0.0      0.0     0.0     0.0  \n",
       "169      0.0      0.0     0.0     0.0  \n",
       "\n",
       "[170 rows x 26 columns]"
      ]
     },
     "execution_count": 30,
     "metadata": {},
     "output_type": "execute_result"
    }
   ],
   "source": [
    "new_df = clean_data(df)\n",
    "new_df"
   ]
  },
  {
   "cell_type": "code",
   "execution_count": 31,
   "metadata": {},
   "outputs": [
    {
     "data": {
      "text/plain": [
       "<AxesSubplot:xlabel='Rarity', ylabel='11/9'>"
      ]
     },
     "execution_count": 31,
     "metadata": {},
     "output_type": "execute_result"
    },
    {
     "data": {
      "image/png": "[encoded data removed]",
      "text/plain": [
       "<Figure size 432x288 with 1 Axes>"
      ]
     },
     "metadata": {
      "needs_background": "light"
     },
     "output_type": "display_data"
    }
   ],
   "source": [
    "sns.scatterplot(data=new_df, x = \"Rarity\", y = \"11/9\")"
   ]
  },
  {
   "cell_type": "code",
   "execution_count": 32,
   "metadata": {},
   "outputs": [
    {
     "data": {
      "text/plain": [
       "<AxesSubplot:xlabel='Rarity', ylabel='11/9'>"
      ]
     },
     "execution_count": 32,
     "metadata": {},
     "output_type": "execute_result"
    },
    {
     "data": {
      "image/png": "[encoded data removed]",
      "text/plain": [
       "<Figure size 432x288 with 1 Axes>"
      ]
     },
     "metadata": {
      "needs_background": "light"
     },
     "output_type": "display_data"
    }
   ],
   "source": [
    "df_jit = new_df.copy()\n",
    "df_jit[\"Rarity\"] += np.random.random(df_jit.shape[0]) * 0.3\n",
    "df_jit[\"11/9\"] += np.random.random(df_jit.shape[0]) * 0.3\n",
    "sns.scatterplot(data=df_jit, x=\"Rarity\", y=\"11/9\")"
   ]
  },
  {
   "cell_type": "code",
   "execution_count": 33,
   "metadata": {},
   "outputs": [
    {
     "data": {
      "image/png": "[encoded data removed]",
      "text/plain": [
       "<Figure size 360x360 with 1 Axes>"
      ]
     },
     "metadata": {
      "needs_background": "light"
     },
     "output_type": "display_data"
    }
   ],
   "source": [
    "ax1=sns.catplot(data=new_df, kind=\"swarm\", x=\"Rarity\", y=\"11/9\")"
   ]
  },
  {
   "cell_type": "code",
   "execution_count": null,
   "metadata": {},
   "outputs": [],
   "source": []
  },
  {
   "cell_type": "code",
   "execution_count": 34,
   "metadata": {
    "scrolled": true
   },
   "outputs": [],
   "source": [
    "def select_comic(new_df, name):\n",
    "    dd = new_df.loc[new_df[\"NFT\"] == name]\n",
    "    df1 = dd.iloc[:, 7:]\n",
    "    df1 = df1[df1.columns[::-1]].T\n",
    "    df1 = df1.rename(columns={df1.columns[0]: \"Price\"})\n",
    "    return df1"
   ]
  },
  {
   "cell_type": "code",
   "execution_count": 35,
   "metadata": {},
   "outputs": [],
   "source": [
    "def floor_prices(df):\n",
    "    fp = []\n",
    "    length = np.arange(len(df[\"Price\"]))\n",
    "    for l in length:\n",
    "        if df[\"Price\"][l] != 0:\n",
    "            fp.append(df[\"Price\"][l]) \n",
    "    return fp"
   ]
  },
  {
   "cell_type": "code",
   "execution_count": 36,
   "metadata": {},
   "outputs": [],
   "source": [
    "def plot_fp(df, fp):\n",
    "    dates = len(floor_prices(df)) + 1\n",
    "    date_fp = df[-dates:]\n",
    "    date_fp[date_fp.columns[::-1]].plot()\n",
    "    plt.axhline(np.mean(floor_prices(df)), ls='--', linewidth=3, color='red')\n",
    "    return np.mean(floor_prices(df))"
   ]
  },
  {
   "cell_type": "code",
   "execution_count": 37,
   "metadata": {},
   "outputs": [
    {
     "data": {
      "text/plain": [
       "96.5"
      ]
     },
     "execution_count": 37,
     "metadata": {},
     "output_type": "execute_result"
    },
    {
     "data": {
      "image/png": "[encoded data removed]",
      "text/plain": [
       "<Figure size 432x288 with 1 Axes>"
      ]
     },
     "metadata": {
      "needs_background": "light"
     },
     "output_type": "display_data"
    }
   ],
   "source": [
    "dare = select_comic(new_df, \"Daredevil #1: Hero\")\n",
    "fp_dare = floor_prices(dare)\n",
    "plot_fp(dare, fp_dare)"
   ]
  },
  {
   "cell_type": "code",
   "execution_count": 38,
   "metadata": {},
   "outputs": [
    {
     "data": {
      "text/plain": [
       "21.166666666666668"
      ]
     },
     "execution_count": 38,
     "metadata": {},
     "output_type": "execute_result"
    },
    {
     "data": {
      "image/png": "[encoded data removed]",
      "text/plain": [
       "<Figure size 432x288 with 1 Axes>"
      ]
     },
     "metadata": {
      "needs_background": "light"
     },
     "output_type": "display_data"
    }
   ],
   "source": [
    "darec = select_comic(new_df, \"Daredevil #1: Classic\")\n",
    "fp_darec = floor_prices(dare)\n",
    "plot_fp(darec, fp_darec)"
   ]
  },
  {
   "cell_type": "code",
   "execution_count": 39,
   "metadata": {},
   "outputs": [],
   "source": [
    "def plot_two_fp(df, df1):\n",
    "    dates1, dates2 = len(floor_prices(df)) + 1, len(floor_prices(df1)) + 1\n",
    "    date_fp1, date_fp2 = df[-dates1:], df1[-dates2:]\n",
    "    ax = date_fp1[date_fp1.columns[::-1]].plot()\n",
    "    h1 =plt.axhline(max(floor_prices(df)), ls='--', linewidth=1, color='red')\n",
    "    h2 = plt.axhline(max(floor_prices(df1)), ls='--', linewidth=1, color='green')\n",
    "    date_fp2.plot(ax=ax)\n",
    "    L=plt.legend()\n",
    "    L.get_texts()[0].set_text(\"Comic Book 1\")\n",
    "    L.get_texts()[1].set_text(\"Comic Book 2\")\n",
    "    return max(floor_prices(df)) - max(floor_prices(df1))"
   ]
  },
  {
   "cell_type": "code",
   "execution_count": 40,
   "metadata": {},
   "outputs": [
    {
     "data": {
      "text/plain": [
       "94.0"
      ]
     },
     "execution_count": 40,
     "metadata": {},
     "output_type": "execute_result"
    },
    {
     "data": {
      "image/png": "[encoded data removed]",
      "text/plain": [
       "<Figure size 432x288 with 1 Axes>"
      ]
     },
     "metadata": {
      "needs_background": "light"
     },
     "output_type": "display_data"
    }
   ],
   "source": [
    "plot_two_fp(dare, darec)"
   ]
  },
  {
   "cell_type": "code",
   "execution_count": 41,
   "metadata": {},
   "outputs": [],
   "source": [
    "def plot_comic(*args):\n",
    "    comics = []\n",
    "    count = 1\n",
    "    for df in args:\n",
    "            dates = len(floor_prices(df)) + 1\n",
    "            date_fp = df[-dates:]\n",
    "            plot = plt.plot(date_fp[date_fp.columns[::-1]])\n",
    "            comics.append(\"Comic\" + str(count))\n",
    "            count += 1\n",
    "    plt.legend(comics)\n",
    "    return comics\n",
    "    "
   ]
  },
  {
   "cell_type": "code",
   "execution_count": 42,
   "metadata": {},
   "outputs": [
    {
     "data": {
      "text/plain": [
       "['Comic1', 'Comic2', 'Comic3', 'Comic4']"
      ]
     },
     "execution_count": 42,
     "metadata": {},
     "output_type": "execute_result"
    },
    {
     "data": {
      "image/png": "[encoded data removed]",
      "text/plain": [
       "<Figure size 432x288 with 1 Axes>"
      ]
     },
     "metadata": {
      "needs_background": "light"
     },
     "output_type": "display_data"
    }
   ],
   "source": [
    "c = select_comic(new_df, \"Daredevil #1: Classic\")\n",
    "uc = select_comic(new_df, \"Daredevil #1: Vintage\")\n",
    "r = select_comic(new_df, \"Daredevil #1: Hero\")\n",
    "ur = select_comic(new_df, \"Daredevil #1: Vibranium\")\n",
    "sr = select_comic(new_df, \"Daredevil #1: True Believer\")\n",
    "\n",
    "plot_comic(c, uc, r, ur)\n"
   ]
  },
  {
   "cell_type": "code",
   "execution_count": 43,
   "metadata": {},
   "outputs": [
    {
     "data": {
      "text/plain": [
       "['Comic1', 'Comic2', 'Comic3', 'Comic4', 'Comic5']"
      ]
     },
     "execution_count": 43,
     "metadata": {},
     "output_type": "execute_result"
    },
    {
     "data": {
      "image/png": "[encoded data removed]",
      "text/plain": [
       "<Figure size 432x288 with 1 Axes>"
      ]
     },
     "metadata": {
      "needs_background": "light"
     },
     "output_type": "display_data"
    }
   ],
   "source": [
    "plot_comic(c, uc, r, ur, sr)"
   ]
  },
  {
   "cell_type": "code",
   "execution_count": 45,
   "metadata": {},
   "outputs": [
    {
     "data": {
      "text/plain": [
       "20.05263157894737"
      ]
     },
     "execution_count": 45,
     "metadata": {},
     "output_type": "execute_result"
    },
    {
     "data": {
      "image/png": "[encoded data removed]",
      "text/plain": [
       "<Figure size 432x288 with 1 Axes>"
      ]
     },
     "metadata": {
      "needs_background": "light"
     },
     "output_type": "display_data"
    }
   ],
   "source": [
    "c = select_comic(new_df, \"Fantastic Four #1: Classic\")\n",
    "ff_dare = floor_prices(c)\n",
    "plot_fp(c, ff_dare)"
   ]
  },
  {
   "cell_type": "code",
   "execution_count": null,
   "metadata": {},
   "outputs": [],
   "source": []
  },
  {
   "cell_type": "code",
   "execution_count": null,
   "metadata": {},
   "outputs": [],
   "source": []
  },
  {
   "cell_type": "code",
   "execution_count": null,
   "metadata": {},
   "outputs": [],
   "source": []
  },
  {
   "cell_type": "code",
   "execution_count": null,
   "metadata": {},
   "outputs": [],
   "source": []
  }
 ],
 "metadata": {
  "kernelspec": {
   "display_name": "Python 3",
   "language": "python",
   "name": "python3"
  },
  "language_info": {
   "codemirror_mode": {
    "name": "ipython",
    "version": 3
   },
   "file_extension": ".py",
   "mimetype": "text/x-python",
   "name": "python",
   "nbconvert_exporter": "python",
   "pygments_lexer": "ipython3",
   "version": "3.8.5"
  }
 },
 "nbformat": 4,
 "nbformat_minor": 4
}
