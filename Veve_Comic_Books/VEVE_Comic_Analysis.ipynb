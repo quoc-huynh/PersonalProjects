{
 "cells": [
  {
   "cell_type": "code",
   "execution_count": 1,
   "metadata": {},
   "outputs": [],
   "source": [
    "import pandas as pd\n",
    "import numpy as np\n",
    "import seaborn as sns\n",
    "import matplotlib.pyplot as plt\n",
    "import seaborn as sns\n",
    "%matplotlib inline\n",
    "import sklearn\n",
    "import warnings\n",
    "warnings.filterwarnings(\"ignore\")\n",
    "from PIL import Image\n",
    "import numpy as np\n",
    "import numpy as np\n",
    "import matplotlib.pyplot as plt\n",
    "import requests\n",
    "from collections import Counter\n",
    "from sklearn.cluster import KMeans\n",
    "import re"
   ]
  },
  {
   "cell_type": "code",
   "execution_count": 2,
   "metadata": {},
   "outputs": [
    {
     "data": {
      "text/html": [
       "<div>\n",
       "<style scoped>\n",
       "    .dataframe tbody tr th:only-of-type {\n",
       "        vertical-align: middle;\n",
       "    }\n",
       "\n",
       "    .dataframe tbody tr th {\n",
       "        vertical-align: top;\n",
       "    }\n",
       "\n",
       "    .dataframe thead th {\n",
       "        text-align: right;\n",
       "    }\n",
       "</style>\n",
       "<table border=\"1\" class=\"dataframe\">\n",
       "  <thead>\n",
       "    <tr style=\"text-align: right;\">\n",
       "      <th></th>\n",
       "      <th>NFT</th>\n",
       "      <th>Rarity</th>\n",
       "      <th>Quantity</th>\n",
       "      <th>Veve Price</th>\n",
       "      <th>% Gain from Veve Price</th>\n",
       "      <th>Recent Price Movement</th>\n",
       "      <th>Trend!</th>\n",
       "      <th>1/12</th>\n",
       "      <th>1/3</th>\n",
       "      <th>12/7</th>\n",
       "      <th>...</th>\n",
       "      <th>9/23</th>\n",
       "      <th>9/19</th>\n",
       "      <th>9/18</th>\n",
       "      <th>9/17</th>\n",
       "      <th>9/15</th>\n",
       "      <th>9/12</th>\n",
       "      <th>9/9</th>\n",
       "      <th>9/3</th>\n",
       "      <th>8/29</th>\n",
       "      <th>8/26</th>\n",
       "    </tr>\n",
       "  </thead>\n",
       "  <tbody>\n",
       "    <tr>\n",
       "      <th>0</th>\n",
       "      <td>This was made by Butt Thompson</td>\n",
       "      <td>NaN</td>\n",
       "      <td>NaN</td>\n",
       "      <td>NaN</td>\n",
       "      <td>NaN</td>\n",
       "      <td>NaN</td>\n",
       "      <td>NaN</td>\n",
       "      <td>NaN</td>\n",
       "      <td>NaN</td>\n",
       "      <td>NaN</td>\n",
       "      <td>...</td>\n",
       "      <td>NaN</td>\n",
       "      <td>NaN</td>\n",
       "      <td>NaN</td>\n",
       "      <td>NaN</td>\n",
       "      <td>NaN</td>\n",
       "      <td>NaN</td>\n",
       "      <td>NaN</td>\n",
       "      <td>NaN</td>\n",
       "      <td>NaN</td>\n",
       "      <td>NaN</td>\n",
       "    </tr>\n",
       "    <tr>\n",
       "      <th>1</th>\n",
       "      <td>Marvel Comics: Classic</td>\n",
       "      <td>Common</td>\n",
       "      <td>48000.0</td>\n",
       "      <td>$ 6.99</td>\n",
       "      <td>4177.54%</td>\n",
       "      <td>66.11%</td>\n",
       "      <td>NaN</td>\n",
       "      <td>$ 299.00</td>\n",
       "      <td>$ 180.00</td>\n",
       "      <td>$ 215.00</td>\n",
       "      <td>...</td>\n",
       "      <td>$ 64.00</td>\n",
       "      <td>$ 65.00</td>\n",
       "      <td>$ 58.00</td>\n",
       "      <td>$ 62.00</td>\n",
       "      <td>$ 36.00</td>\n",
       "      <td>$ 35.00</td>\n",
       "      <td>$ 15.00</td>\n",
       "      <td>$ 16.00</td>\n",
       "      <td>$ 14.00</td>\n",
       "      <td>$ 10.00</td>\n",
       "    </tr>\n",
       "    <tr>\n",
       "      <th>2</th>\n",
       "      <td>Marvel Comics: Vintage</td>\n",
       "      <td>Uncommon</td>\n",
       "      <td>6000.0</td>\n",
       "      <td>$ 6.99</td>\n",
       "      <td>5622.46%</td>\n",
       "      <td>81.82%</td>\n",
       "      <td>NaN</td>\n",
       "      <td>$ 400.00</td>\n",
       "      <td>$ 220.00</td>\n",
       "      <td>$ 292.00</td>\n",
       "      <td>...</td>\n",
       "      <td>$ 217.00</td>\n",
       "      <td>$ 154.00</td>\n",
       "      <td>$ 109.00</td>\n",
       "      <td>$ 129.00</td>\n",
       "      <td>$ 82.00</td>\n",
       "      <td>$ 86.00</td>\n",
       "      <td>$ 28.00</td>\n",
       "      <td>$ 33.00</td>\n",
       "      <td>$ 25.00</td>\n",
       "      <td>$ 24.00</td>\n",
       "    </tr>\n",
       "    <tr>\n",
       "      <th>3</th>\n",
       "      <td>Marvel Comics: Hero</td>\n",
       "      <td>Rare</td>\n",
       "      <td>3000.0</td>\n",
       "      <td>$ 6.99</td>\n",
       "      <td>11631.04%</td>\n",
       "      <td>58.91%</td>\n",
       "      <td>NaN</td>\n",
       "      <td>$ 820.00</td>\n",
       "      <td>$ 516.00</td>\n",
       "      <td>$ 508.00</td>\n",
       "      <td>...</td>\n",
       "      <td>$ 660.00</td>\n",
       "      <td>$ 345.00</td>\n",
       "      <td>$ 320.00</td>\n",
       "      <td>$ 274.00</td>\n",
       "      <td>$ 269.00</td>\n",
       "      <td>$ 286.00</td>\n",
       "      <td>$ 138.00</td>\n",
       "      <td>$ 150.00</td>\n",
       "      <td>$ 63.00</td>\n",
       "      <td>$ 60.00</td>\n",
       "    </tr>\n",
       "    <tr>\n",
       "      <th>4</th>\n",
       "      <td>Marvel Comics: Vibranium</td>\n",
       "      <td>Ultra Rare</td>\n",
       "      <td>2400.0</td>\n",
       "      <td>$ 6.99</td>\n",
       "      <td>38240.49%</td>\n",
       "      <td>112.70%</td>\n",
       "      <td>NaN</td>\n",
       "      <td>$ 2,680.00</td>\n",
       "      <td>$ 1,260.00</td>\n",
       "      <td>$ 1,745.00</td>\n",
       "      <td>...</td>\n",
       "      <td>$ 2,199.00</td>\n",
       "      <td>$ 889.00</td>\n",
       "      <td>$ 715.00</td>\n",
       "      <td>$ 750.00</td>\n",
       "      <td>$ 605.00</td>\n",
       "      <td>$ 725.00</td>\n",
       "      <td>$ 290.00</td>\n",
       "      <td>$ 443.00</td>\n",
       "      <td>$ 160.00</td>\n",
       "      <td>$ 165.00</td>\n",
       "    </tr>\n",
       "    <tr>\n",
       "      <th>...</th>\n",
       "      <td>...</td>\n",
       "      <td>...</td>\n",
       "      <td>...</td>\n",
       "      <td>...</td>\n",
       "      <td>...</td>\n",
       "      <td>...</td>\n",
       "      <td>...</td>\n",
       "      <td>...</td>\n",
       "      <td>...</td>\n",
       "      <td>...</td>\n",
       "      <td>...</td>\n",
       "      <td>...</td>\n",
       "      <td>...</td>\n",
       "      <td>...</td>\n",
       "      <td>...</td>\n",
       "      <td>...</td>\n",
       "      <td>...</td>\n",
       "      <td>...</td>\n",
       "      <td>...</td>\n",
       "      <td>...</td>\n",
       "      <td>...</td>\n",
       "    </tr>\n",
       "    <tr>\n",
       "      <th>231</th>\n",
       "      <td>Alpha Flight #1: Classic</td>\n",
       "      <td>Common</td>\n",
       "      <td>6000.0</td>\n",
       "      <td>$ 6.99</td>\n",
       "      <td>572.39%</td>\n",
       "      <td>NaN</td>\n",
       "      <td>NaN</td>\n",
       "      <td>$ 47.00</td>\n",
       "      <td>NaN</td>\n",
       "      <td>NaN</td>\n",
       "      <td>...</td>\n",
       "      <td>NaN</td>\n",
       "      <td>NaN</td>\n",
       "      <td>NaN</td>\n",
       "      <td>NaN</td>\n",
       "      <td>NaN</td>\n",
       "      <td>NaN</td>\n",
       "      <td>NaN</td>\n",
       "      <td>NaN</td>\n",
       "      <td>NaN</td>\n",
       "      <td>NaN</td>\n",
       "    </tr>\n",
       "    <tr>\n",
       "      <th>232</th>\n",
       "      <td>Alpha Flight #1: Vintage</td>\n",
       "      <td>Uncommon</td>\n",
       "      <td>2250.0</td>\n",
       "      <td>$ 6.99</td>\n",
       "      <td>643.92%</td>\n",
       "      <td>NaN</td>\n",
       "      <td>NaN</td>\n",
       "      <td>$ 52.00</td>\n",
       "      <td>NaN</td>\n",
       "      <td>NaN</td>\n",
       "      <td>...</td>\n",
       "      <td>NaN</td>\n",
       "      <td>NaN</td>\n",
       "      <td>NaN</td>\n",
       "      <td>NaN</td>\n",
       "      <td>NaN</td>\n",
       "      <td>NaN</td>\n",
       "      <td>NaN</td>\n",
       "      <td>NaN</td>\n",
       "      <td>NaN</td>\n",
       "      <td>NaN</td>\n",
       "    </tr>\n",
       "    <tr>\n",
       "      <th>233</th>\n",
       "      <td>Alpha Flight #1: Hero</td>\n",
       "      <td>Rare</td>\n",
       "      <td>1000.0</td>\n",
       "      <td>$ 6.99</td>\n",
       "      <td>1402.15%</td>\n",
       "      <td>NaN</td>\n",
       "      <td>NaN</td>\n",
       "      <td>$ 105.00</td>\n",
       "      <td>NaN</td>\n",
       "      <td>NaN</td>\n",
       "      <td>...</td>\n",
       "      <td>NaN</td>\n",
       "      <td>NaN</td>\n",
       "      <td>NaN</td>\n",
       "      <td>NaN</td>\n",
       "      <td>NaN</td>\n",
       "      <td>NaN</td>\n",
       "      <td>NaN</td>\n",
       "      <td>NaN</td>\n",
       "      <td>NaN</td>\n",
       "      <td>NaN</td>\n",
       "    </tr>\n",
       "    <tr>\n",
       "      <th>234</th>\n",
       "      <td>Alpha Flight #1: Vibranium</td>\n",
       "      <td>Ultra Rare</td>\n",
       "      <td>500.0</td>\n",
       "      <td>$ 6.99</td>\n",
       "      <td>3905.72%</td>\n",
       "      <td>NaN</td>\n",
       "      <td>NaN</td>\n",
       "      <td>$ 280.00</td>\n",
       "      <td>NaN</td>\n",
       "      <td>NaN</td>\n",
       "      <td>...</td>\n",
       "      <td>NaN</td>\n",
       "      <td>NaN</td>\n",
       "      <td>NaN</td>\n",
       "      <td>NaN</td>\n",
       "      <td>NaN</td>\n",
       "      <td>NaN</td>\n",
       "      <td>NaN</td>\n",
       "      <td>NaN</td>\n",
       "      <td>NaN</td>\n",
       "      <td>NaN</td>\n",
       "    </tr>\n",
       "    <tr>\n",
       "      <th>235</th>\n",
       "      <td>Alpha Flight #1: True Believer</td>\n",
       "      <td>Secret Rare</td>\n",
       "      <td>250.0</td>\n",
       "      <td>$ 6.99</td>\n",
       "      <td>22789.84%</td>\n",
       "      <td>NaN</td>\n",
       "      <td>NaN</td>\n",
       "      <td>$ 1,600.00</td>\n",
       "      <td>NaN</td>\n",
       "      <td>NaN</td>\n",
       "      <td>...</td>\n",
       "      <td>NaN</td>\n",
       "      <td>NaN</td>\n",
       "      <td>NaN</td>\n",
       "      <td>NaN</td>\n",
       "      <td>NaN</td>\n",
       "      <td>NaN</td>\n",
       "      <td>NaN</td>\n",
       "      <td>NaN</td>\n",
       "      <td>NaN</td>\n",
       "      <td>NaN</td>\n",
       "    </tr>\n",
       "  </tbody>\n",
       "</table>\n",
       "<p>236 rows × 30 columns</p>\n",
       "</div>"
      ],
      "text/plain": [
       "                                NFT       Rarity  Quantity Veve Price  \\\n",
       "0    This was made by Butt Thompson          NaN       NaN        NaN   \n",
       "1            Marvel Comics: Classic       Common   48000.0    $ 6.99    \n",
       "2            Marvel Comics: Vintage     Uncommon    6000.0    $ 6.99    \n",
       "3               Marvel Comics: Hero         Rare    3000.0    $ 6.99    \n",
       "4          Marvel Comics: Vibranium   Ultra Rare    2400.0    $ 6.99    \n",
       "..                              ...          ...       ...        ...   \n",
       "231        Alpha Flight #1: Classic       Common    6000.0    $ 6.99    \n",
       "232        Alpha Flight #1: Vintage     Uncommon    2250.0    $ 6.99    \n",
       "233           Alpha Flight #1: Hero         Rare    1000.0    $ 6.99    \n",
       "234      Alpha Flight #1: Vibranium   Ultra Rare     500.0    $ 6.99    \n",
       "235  Alpha Flight #1: True Believer  Secret Rare     250.0    $ 6.99    \n",
       "\n",
       "    % Gain from Veve Price Recent Price Movement  Trend!          1/12  \\\n",
       "0                      NaN                   NaN     NaN           NaN   \n",
       "1                 4177.54%                66.11%     NaN     $ 299.00    \n",
       "2                 5622.46%                81.82%     NaN     $ 400.00    \n",
       "3                11631.04%                58.91%     NaN     $ 820.00    \n",
       "4                38240.49%               112.70%     NaN   $ 2,680.00    \n",
       "..                     ...                   ...     ...           ...   \n",
       "231                572.39%                   NaN     NaN      $ 47.00    \n",
       "232                643.92%                   NaN     NaN      $ 52.00    \n",
       "233               1402.15%                   NaN     NaN     $ 105.00    \n",
       "234               3905.72%                   NaN     NaN     $ 280.00    \n",
       "235              22789.84%                   NaN     NaN   $ 1,600.00    \n",
       "\n",
       "              1/3          12/7  ...          9/23        9/19        9/18  \\\n",
       "0             NaN           NaN  ...           NaN         NaN         NaN   \n",
       "1       $ 180.00      $ 215.00   ...      $ 64.00     $ 65.00     $ 58.00    \n",
       "2       $ 220.00      $ 292.00   ...     $ 217.00    $ 154.00    $ 109.00    \n",
       "3       $ 516.00      $ 508.00   ...     $ 660.00    $ 345.00    $ 320.00    \n",
       "4     $ 1,260.00    $ 1,745.00   ...   $ 2,199.00    $ 889.00    $ 715.00    \n",
       "..            ...           ...  ...           ...         ...         ...   \n",
       "231           NaN           NaN  ...           NaN         NaN         NaN   \n",
       "232           NaN           NaN  ...           NaN         NaN         NaN   \n",
       "233           NaN           NaN  ...           NaN         NaN         NaN   \n",
       "234           NaN           NaN  ...           NaN         NaN         NaN   \n",
       "235           NaN           NaN  ...           NaN         NaN         NaN   \n",
       "\n",
       "           9/17        9/15        9/12         9/9         9/3        8/29  \\\n",
       "0           NaN         NaN         NaN         NaN         NaN         NaN   \n",
       "1      $ 62.00     $ 36.00     $ 35.00     $ 15.00     $ 16.00     $ 14.00    \n",
       "2     $ 129.00     $ 82.00     $ 86.00     $ 28.00     $ 33.00     $ 25.00    \n",
       "3     $ 274.00    $ 269.00    $ 286.00    $ 138.00    $ 150.00     $ 63.00    \n",
       "4     $ 750.00    $ 605.00    $ 725.00    $ 290.00    $ 443.00    $ 160.00    \n",
       "..          ...         ...         ...         ...         ...         ...   \n",
       "231         NaN         NaN         NaN         NaN         NaN         NaN   \n",
       "232         NaN         NaN         NaN         NaN         NaN         NaN   \n",
       "233         NaN         NaN         NaN         NaN         NaN         NaN   \n",
       "234         NaN         NaN         NaN         NaN         NaN         NaN   \n",
       "235         NaN         NaN         NaN         NaN         NaN         NaN   \n",
       "\n",
       "           8/26  \n",
       "0           NaN  \n",
       "1      $ 10.00   \n",
       "2      $ 24.00   \n",
       "3      $ 60.00   \n",
       "4     $ 165.00   \n",
       "..          ...  \n",
       "231         NaN  \n",
       "232         NaN  \n",
       "233         NaN  \n",
       "234         NaN  \n",
       "235         NaN  \n",
       "\n",
       "[236 rows x 30 columns]"
      ]
     },
     "execution_count": 2,
     "metadata": {},
     "output_type": "execute_result"
    }
   ],
   "source": [
    "# INITIAL DATA \n",
    "df = pd.read_csv(\"VeVe NFT Spreadsheet - DigitalComics.csv\")\n",
    "df"
   ]
  },
  {
   "cell_type": "code",
   "execution_count": 3,
   "metadata": {},
   "outputs": [],
   "source": [
    "# CLEANING THE DATA\n",
    "def clean_data(df):\n",
    "    df_copy = df.copy()\n",
    "    df_copy[\"Rarity\"] = df_copy[\"Rarity\"].replace({\"Common\":1, \"Uncommon\":2, \"Rare\":3, \"Ultra Rare\":4, \"Secret Rare\": 5})\n",
    "    new_df = df_copy.loc[:, df.columns != \"NFT\"]\n",
    "    for x in new_df.columns:\n",
    "        if isinstance(new_df[x][1], str):\n",
    "            if \"%\" in new_df[x][1]:\n",
    "                new_df[x] = new_df[x].str.rstrip('%').astype('float') / 100.0\n",
    "            else:\n",
    "                new_df[x] = new_df[x].str.replace('$', '')\n",
    "                new_df[x] = new_df[x].str.replace(',', '')\n",
    "                new_df[x] = new_df[x].astype(float)\n",
    "    new_df.insert(0,'NFT',df_copy[\"NFT\"])\n",
    "    new_df = new_df.drop(columns=['Trend!']).fillna(0)\n",
    "    return new_df.drop(index = 0)"
   ]
  },
  {
   "cell_type": "code",
   "execution_count": 4,
   "metadata": {},
   "outputs": [
    {
     "data": {
      "text/html": [
       "<div>\n",
       "<style scoped>\n",
       "    .dataframe tbody tr th:only-of-type {\n",
       "        vertical-align: middle;\n",
       "    }\n",
       "\n",
       "    .dataframe tbody tr th {\n",
       "        vertical-align: top;\n",
       "    }\n",
       "\n",
       "    .dataframe thead th {\n",
       "        text-align: right;\n",
       "    }\n",
       "</style>\n",
       "<table border=\"1\" class=\"dataframe\">\n",
       "  <thead>\n",
       "    <tr style=\"text-align: right;\">\n",
       "      <th></th>\n",
       "      <th>NFT</th>\n",
       "      <th>Rarity</th>\n",
       "      <th>Quantity</th>\n",
       "      <th>Veve Price</th>\n",
       "      <th>% Gain from Veve Price</th>\n",
       "      <th>Recent Price Movement</th>\n",
       "      <th>1/12</th>\n",
       "      <th>1/3</th>\n",
       "      <th>12/7</th>\n",
       "      <th>12/1</th>\n",
       "      <th>...</th>\n",
       "      <th>9/23</th>\n",
       "      <th>9/19</th>\n",
       "      <th>9/18</th>\n",
       "      <th>9/17</th>\n",
       "      <th>9/15</th>\n",
       "      <th>9/12</th>\n",
       "      <th>9/9</th>\n",
       "      <th>9/3</th>\n",
       "      <th>8/29</th>\n",
       "      <th>8/26</th>\n",
       "    </tr>\n",
       "  </thead>\n",
       "  <tbody>\n",
       "    <tr>\n",
       "      <th>1</th>\n",
       "      <td>Marvel Comics: Classic</td>\n",
       "      <td>1.0</td>\n",
       "      <td>48000.0</td>\n",
       "      <td>6.99</td>\n",
       "      <td>41.7754</td>\n",
       "      <td>0.6611</td>\n",
       "      <td>299.0</td>\n",
       "      <td>180.0</td>\n",
       "      <td>215.0</td>\n",
       "      <td>90.0</td>\n",
       "      <td>...</td>\n",
       "      <td>64.0</td>\n",
       "      <td>65.0</td>\n",
       "      <td>58.0</td>\n",
       "      <td>62.0</td>\n",
       "      <td>36.0</td>\n",
       "      <td>35.0</td>\n",
       "      <td>15.0</td>\n",
       "      <td>16.0</td>\n",
       "      <td>14.0</td>\n",
       "      <td>10.0</td>\n",
       "    </tr>\n",
       "    <tr>\n",
       "      <th>2</th>\n",
       "      <td>Marvel Comics: Vintage</td>\n",
       "      <td>2.0</td>\n",
       "      <td>6000.0</td>\n",
       "      <td>6.99</td>\n",
       "      <td>56.2246</td>\n",
       "      <td>0.8182</td>\n",
       "      <td>400.0</td>\n",
       "      <td>220.0</td>\n",
       "      <td>292.0</td>\n",
       "      <td>180.0</td>\n",
       "      <td>...</td>\n",
       "      <td>217.0</td>\n",
       "      <td>154.0</td>\n",
       "      <td>109.0</td>\n",
       "      <td>129.0</td>\n",
       "      <td>82.0</td>\n",
       "      <td>86.0</td>\n",
       "      <td>28.0</td>\n",
       "      <td>33.0</td>\n",
       "      <td>25.0</td>\n",
       "      <td>24.0</td>\n",
       "    </tr>\n",
       "    <tr>\n",
       "      <th>3</th>\n",
       "      <td>Marvel Comics: Hero</td>\n",
       "      <td>3.0</td>\n",
       "      <td>3000.0</td>\n",
       "      <td>6.99</td>\n",
       "      <td>116.3104</td>\n",
       "      <td>0.5891</td>\n",
       "      <td>820.0</td>\n",
       "      <td>516.0</td>\n",
       "      <td>508.0</td>\n",
       "      <td>395.0</td>\n",
       "      <td>...</td>\n",
       "      <td>660.0</td>\n",
       "      <td>345.0</td>\n",
       "      <td>320.0</td>\n",
       "      <td>274.0</td>\n",
       "      <td>269.0</td>\n",
       "      <td>286.0</td>\n",
       "      <td>138.0</td>\n",
       "      <td>150.0</td>\n",
       "      <td>63.0</td>\n",
       "      <td>60.0</td>\n",
       "    </tr>\n",
       "    <tr>\n",
       "      <th>4</th>\n",
       "      <td>Marvel Comics: Vibranium</td>\n",
       "      <td>4.0</td>\n",
       "      <td>2400.0</td>\n",
       "      <td>6.99</td>\n",
       "      <td>382.4049</td>\n",
       "      <td>1.1270</td>\n",
       "      <td>2680.0</td>\n",
       "      <td>1260.0</td>\n",
       "      <td>1745.0</td>\n",
       "      <td>1099.0</td>\n",
       "      <td>...</td>\n",
       "      <td>2199.0</td>\n",
       "      <td>889.0</td>\n",
       "      <td>715.0</td>\n",
       "      <td>750.0</td>\n",
       "      <td>605.0</td>\n",
       "      <td>725.0</td>\n",
       "      <td>290.0</td>\n",
       "      <td>443.0</td>\n",
       "      <td>160.0</td>\n",
       "      <td>165.0</td>\n",
       "    </tr>\n",
       "    <tr>\n",
       "      <th>5</th>\n",
       "      <td>Marvel Comics: True Believer</td>\n",
       "      <td>5.0</td>\n",
       "      <td>600.0</td>\n",
       "      <td>6.99</td>\n",
       "      <td>7009.0143</td>\n",
       "      <td>0.6350</td>\n",
       "      <td>49000.0</td>\n",
       "      <td>29969.0</td>\n",
       "      <td>36969.0</td>\n",
       "      <td>29999.0</td>\n",
       "      <td>...</td>\n",
       "      <td>40000.0</td>\n",
       "      <td>19000.0</td>\n",
       "      <td>14450.0</td>\n",
       "      <td>13999.0</td>\n",
       "      <td>14500.0</td>\n",
       "      <td>13777.0</td>\n",
       "      <td>14999.0</td>\n",
       "      <td>18000.0</td>\n",
       "      <td>6500.0</td>\n",
       "      <td>3450.0</td>\n",
       "    </tr>\n",
       "    <tr>\n",
       "      <th>...</th>\n",
       "      <td>...</td>\n",
       "      <td>...</td>\n",
       "      <td>...</td>\n",
       "      <td>...</td>\n",
       "      <td>...</td>\n",
       "      <td>...</td>\n",
       "      <td>...</td>\n",
       "      <td>...</td>\n",
       "      <td>...</td>\n",
       "      <td>...</td>\n",
       "      <td>...</td>\n",
       "      <td>...</td>\n",
       "      <td>...</td>\n",
       "      <td>...</td>\n",
       "      <td>...</td>\n",
       "      <td>...</td>\n",
       "      <td>...</td>\n",
       "      <td>...</td>\n",
       "      <td>...</td>\n",
       "      <td>...</td>\n",
       "      <td>...</td>\n",
       "    </tr>\n",
       "    <tr>\n",
       "      <th>231</th>\n",
       "      <td>Alpha Flight #1: Classic</td>\n",
       "      <td>1.0</td>\n",
       "      <td>6000.0</td>\n",
       "      <td>6.99</td>\n",
       "      <td>5.7239</td>\n",
       "      <td>0.0000</td>\n",
       "      <td>47.0</td>\n",
       "      <td>0.0</td>\n",
       "      <td>0.0</td>\n",
       "      <td>0.0</td>\n",
       "      <td>...</td>\n",
       "      <td>0.0</td>\n",
       "      <td>0.0</td>\n",
       "      <td>0.0</td>\n",
       "      <td>0.0</td>\n",
       "      <td>0.0</td>\n",
       "      <td>0.0</td>\n",
       "      <td>0.0</td>\n",
       "      <td>0.0</td>\n",
       "      <td>0.0</td>\n",
       "      <td>0.0</td>\n",
       "    </tr>\n",
       "    <tr>\n",
       "      <th>232</th>\n",
       "      <td>Alpha Flight #1: Vintage</td>\n",
       "      <td>2.0</td>\n",
       "      <td>2250.0</td>\n",
       "      <td>6.99</td>\n",
       "      <td>6.4392</td>\n",
       "      <td>0.0000</td>\n",
       "      <td>52.0</td>\n",
       "      <td>0.0</td>\n",
       "      <td>0.0</td>\n",
       "      <td>0.0</td>\n",
       "      <td>...</td>\n",
       "      <td>0.0</td>\n",
       "      <td>0.0</td>\n",
       "      <td>0.0</td>\n",
       "      <td>0.0</td>\n",
       "      <td>0.0</td>\n",
       "      <td>0.0</td>\n",
       "      <td>0.0</td>\n",
       "      <td>0.0</td>\n",
       "      <td>0.0</td>\n",
       "      <td>0.0</td>\n",
       "    </tr>\n",
       "    <tr>\n",
       "      <th>233</th>\n",
       "      <td>Alpha Flight #1: Hero</td>\n",
       "      <td>3.0</td>\n",
       "      <td>1000.0</td>\n",
       "      <td>6.99</td>\n",
       "      <td>14.0215</td>\n",
       "      <td>0.0000</td>\n",
       "      <td>105.0</td>\n",
       "      <td>0.0</td>\n",
       "      <td>0.0</td>\n",
       "      <td>0.0</td>\n",
       "      <td>...</td>\n",
       "      <td>0.0</td>\n",
       "      <td>0.0</td>\n",
       "      <td>0.0</td>\n",
       "      <td>0.0</td>\n",
       "      <td>0.0</td>\n",
       "      <td>0.0</td>\n",
       "      <td>0.0</td>\n",
       "      <td>0.0</td>\n",
       "      <td>0.0</td>\n",
       "      <td>0.0</td>\n",
       "    </tr>\n",
       "    <tr>\n",
       "      <th>234</th>\n",
       "      <td>Alpha Flight #1: Vibranium</td>\n",
       "      <td>4.0</td>\n",
       "      <td>500.0</td>\n",
       "      <td>6.99</td>\n",
       "      <td>39.0572</td>\n",
       "      <td>0.0000</td>\n",
       "      <td>280.0</td>\n",
       "      <td>0.0</td>\n",
       "      <td>0.0</td>\n",
       "      <td>0.0</td>\n",
       "      <td>...</td>\n",
       "      <td>0.0</td>\n",
       "      <td>0.0</td>\n",
       "      <td>0.0</td>\n",
       "      <td>0.0</td>\n",
       "      <td>0.0</td>\n",
       "      <td>0.0</td>\n",
       "      <td>0.0</td>\n",
       "      <td>0.0</td>\n",
       "      <td>0.0</td>\n",
       "      <td>0.0</td>\n",
       "    </tr>\n",
       "    <tr>\n",
       "      <th>235</th>\n",
       "      <td>Alpha Flight #1: True Believer</td>\n",
       "      <td>5.0</td>\n",
       "      <td>250.0</td>\n",
       "      <td>6.99</td>\n",
       "      <td>227.8984</td>\n",
       "      <td>0.0000</td>\n",
       "      <td>1600.0</td>\n",
       "      <td>0.0</td>\n",
       "      <td>0.0</td>\n",
       "      <td>0.0</td>\n",
       "      <td>...</td>\n",
       "      <td>0.0</td>\n",
       "      <td>0.0</td>\n",
       "      <td>0.0</td>\n",
       "      <td>0.0</td>\n",
       "      <td>0.0</td>\n",
       "      <td>0.0</td>\n",
       "      <td>0.0</td>\n",
       "      <td>0.0</td>\n",
       "      <td>0.0</td>\n",
       "      <td>0.0</td>\n",
       "    </tr>\n",
       "  </tbody>\n",
       "</table>\n",
       "<p>235 rows × 29 columns</p>\n",
       "</div>"
      ],
      "text/plain": [
       "                                NFT  Rarity  Quantity  Veve Price  \\\n",
       "1            Marvel Comics: Classic     1.0   48000.0        6.99   \n",
       "2            Marvel Comics: Vintage     2.0    6000.0        6.99   \n",
       "3               Marvel Comics: Hero     3.0    3000.0        6.99   \n",
       "4          Marvel Comics: Vibranium     4.0    2400.0        6.99   \n",
       "5      Marvel Comics: True Believer     5.0     600.0        6.99   \n",
       "..                              ...     ...       ...         ...   \n",
       "231        Alpha Flight #1: Classic     1.0    6000.0        6.99   \n",
       "232        Alpha Flight #1: Vintage     2.0    2250.0        6.99   \n",
       "233           Alpha Flight #1: Hero     3.0    1000.0        6.99   \n",
       "234      Alpha Flight #1: Vibranium     4.0     500.0        6.99   \n",
       "235  Alpha Flight #1: True Believer     5.0     250.0        6.99   \n",
       "\n",
       "     % Gain from Veve Price  Recent Price Movement     1/12      1/3     12/7  \\\n",
       "1                   41.7754                 0.6611    299.0    180.0    215.0   \n",
       "2                   56.2246                 0.8182    400.0    220.0    292.0   \n",
       "3                  116.3104                 0.5891    820.0    516.0    508.0   \n",
       "4                  382.4049                 1.1270   2680.0   1260.0   1745.0   \n",
       "5                 7009.0143                 0.6350  49000.0  29969.0  36969.0   \n",
       "..                      ...                    ...      ...      ...      ...   \n",
       "231                  5.7239                 0.0000     47.0      0.0      0.0   \n",
       "232                  6.4392                 0.0000     52.0      0.0      0.0   \n",
       "233                 14.0215                 0.0000    105.0      0.0      0.0   \n",
       "234                 39.0572                 0.0000    280.0      0.0      0.0   \n",
       "235                227.8984                 0.0000   1600.0      0.0      0.0   \n",
       "\n",
       "        12/1  ...     9/23     9/19     9/18     9/17     9/15     9/12  \\\n",
       "1       90.0  ...     64.0     65.0     58.0     62.0     36.0     35.0   \n",
       "2      180.0  ...    217.0    154.0    109.0    129.0     82.0     86.0   \n",
       "3      395.0  ...    660.0    345.0    320.0    274.0    269.0    286.0   \n",
       "4     1099.0  ...   2199.0    889.0    715.0    750.0    605.0    725.0   \n",
       "5    29999.0  ...  40000.0  19000.0  14450.0  13999.0  14500.0  13777.0   \n",
       "..       ...  ...      ...      ...      ...      ...      ...      ...   \n",
       "231      0.0  ...      0.0      0.0      0.0      0.0      0.0      0.0   \n",
       "232      0.0  ...      0.0      0.0      0.0      0.0      0.0      0.0   \n",
       "233      0.0  ...      0.0      0.0      0.0      0.0      0.0      0.0   \n",
       "234      0.0  ...      0.0      0.0      0.0      0.0      0.0      0.0   \n",
       "235      0.0  ...      0.0      0.0      0.0      0.0      0.0      0.0   \n",
       "\n",
       "         9/9      9/3    8/29    8/26  \n",
       "1       15.0     16.0    14.0    10.0  \n",
       "2       28.0     33.0    25.0    24.0  \n",
       "3      138.0    150.0    63.0    60.0  \n",
       "4      290.0    443.0   160.0   165.0  \n",
       "5    14999.0  18000.0  6500.0  3450.0  \n",
       "..       ...      ...     ...     ...  \n",
       "231      0.0      0.0     0.0     0.0  \n",
       "232      0.0      0.0     0.0     0.0  \n",
       "233      0.0      0.0     0.0     0.0  \n",
       "234      0.0      0.0     0.0     0.0  \n",
       "235      0.0      0.0     0.0     0.0  \n",
       "\n",
       "[235 rows x 29 columns]"
      ]
     },
     "execution_count": 4,
     "metadata": {},
     "output_type": "execute_result"
    }
   ],
   "source": [
    "new_df = clean_data(df)\n",
    "new_df"
   ]
  },
  {
   "cell_type": "code",
   "execution_count": 5,
   "metadata": {},
   "outputs": [
    {
     "data": {
      "text/plain": [
       "<AxesSubplot:xlabel='Rarity', ylabel='11/9'>"
      ]
     },
     "execution_count": 5,
     "metadata": {},
     "output_type": "execute_result"
    },
    {
     "data": {
      "image/png": "[encoded data removed]",
      "text/plain": [
       "<Figure size 432x288 with 1 Axes>"
      ]
     },
     "metadata": {
      "needs_background": "light"
     },
     "output_type": "display_data"
    }
   ],
   "source": [
    "sns.scatterplot(data=new_df, x = \"Rarity\", y = \"11/9\")"
   ]
  },
  {
   "cell_type": "code",
   "execution_count": 6,
   "metadata": {},
   "outputs": [
    {
     "data": {
      "text/plain": [
       "<AxesSubplot:xlabel='Rarity', ylabel='11/9'>"
      ]
     },
     "execution_count": 6,
     "metadata": {},
     "output_type": "execute_result"
    },
    {
     "data": {
      "image/png": "[encoded data removed]",
      "text/plain": [
       "<Figure size 432x288 with 1 Axes>"
      ]
     },
     "metadata": {
      "needs_background": "light"
     },
     "output_type": "display_data"
    }
   ],
   "source": [
    "df_jit = new_df.copy()\n",
    "df_jit[\"Rarity\"] += np.random.random(df_jit.shape[0]) * 0.3\n",
    "df_jit[\"11/9\"] += np.random.random(df_jit.shape[0]) * 0.3\n",
    "sns.scatterplot(data=df_jit, x=\"Rarity\", y=\"11/9\")"
   ]
  },
  {
   "cell_type": "code",
   "execution_count": 7,
   "metadata": {},
   "outputs": [
    {
     "data": {
      "image/png": "[encoded data removed]",
      "text/plain": [
       "<Figure size 360x360 with 1 Axes>"
      ]
     },
     "metadata": {
      "needs_background": "light"
     },
     "output_type": "display_data"
    }
   ],
   "source": [
    "ax1=sns.catplot(data=new_df, kind=\"swarm\", x=\"Rarity\", y=\"11/9\")"
   ]
  },
  {
   "cell_type": "code",
   "execution_count": null,
   "metadata": {},
   "outputs": [],
   "source": []
  },
  {
   "cell_type": "code",
   "execution_count": 8,
   "metadata": {
    "scrolled": true
   },
   "outputs": [],
   "source": [
    "def select_comic(new_df, name):\n",
    "    dd = new_df.loc[new_df[\"NFT\"] == name]\n",
    "    df1 = dd.iloc[:, 7:]\n",
    "    df1 = df1[df1.columns[::-1]].T\n",
    "    df1 = df1.rename(columns={df1.columns[0]: \"Price\"})\n",
    "    return df1"
   ]
  },
  {
   "cell_type": "code",
   "execution_count": 9,
   "metadata": {},
   "outputs": [],
   "source": [
    "def floor_prices(df):\n",
    "    fp = []\n",
    "    length = np.arange(len(df[\"Price\"]))\n",
    "    for l in length:\n",
    "        if df[\"Price\"][l] != 0:\n",
    "            fp.append(df[\"Price\"][l]) \n",
    "    return fp"
   ]
  },
  {
   "cell_type": "code",
   "execution_count": 10,
   "metadata": {},
   "outputs": [],
   "source": [
    "def plot_fp(df, fp):\n",
    "    dates = len(floor_prices(df)) + 1\n",
    "    date_fp = df[-dates:]\n",
    "    date_fp[date_fp.columns[::-1]].plot()\n",
    "    plt.axhline(np.mean(floor_prices(df)), ls='--', linewidth=3, color='red')\n",
    "    return np.mean(floor_prices(df))"
   ]
  },
  {
   "cell_type": "code",
   "execution_count": 11,
   "metadata": {},
   "outputs": [
    {
     "data": {
      "text/plain": [
       "98.88888888888889"
      ]
     },
     "execution_count": 11,
     "metadata": {},
     "output_type": "execute_result"
    },
    {
     "data": {
      "image/png": "[encoded data removed]",
      "text/plain": [
       "<Figure size 432x288 with 1 Axes>"
      ]
     },
     "metadata": {
      "needs_background": "light"
     },
     "output_type": "display_data"
    }
   ],
   "source": [
    "dare = select_comic(new_df, \"Daredevil #1: Hero\")\n",
    "fp_dare = floor_prices(dare)\n",
    "plot_fp(dare, fp_dare)"
   ]
  },
  {
   "cell_type": "code",
   "execution_count": 12,
   "metadata": {},
   "outputs": [
    {
     "data": {
      "text/plain": [
       "32.22222222222222"
      ]
     },
     "execution_count": 12,
     "metadata": {},
     "output_type": "execute_result"
    },
    {
     "data": {
      "image/png": "[encoded data removed]",
      "text/plain": [
       "<Figure size 432x288 with 1 Axes>"
      ]
     },
     "metadata": {
      "needs_background": "light"
     },
     "output_type": "display_data"
    }
   ],
   "source": [
    "darec = select_comic(new_df, \"Daredevil #1: Classic\")\n",
    "fp_darec = floor_prices(dare)\n",
    "plot_fp(darec, fp_darec)"
   ]
  },
  {
   "cell_type": "code",
   "execution_count": 13,
   "metadata": {},
   "outputs": [],
   "source": [
    "def plot_two_fp(df, df1):\n",
    "    dates1, dates2 = len(floor_prices(df)) + 1, len(floor_prices(df1)) + 1\n",
    "    date_fp1, date_fp2 = df[-dates1:], df1[-dates2:]\n",
    "    ax = date_fp1[date_fp1.columns[::-1]].plot()\n",
    "    h1 =plt.axhline(max(floor_prices(df)), ls='--', linewidth=1, color='red')\n",
    "    h2 = plt.axhline(max(floor_prices(df1)), ls='--', linewidth=1, color='green')\n",
    "    date_fp2.plot(ax=ax)\n",
    "    L=plt.legend()\n",
    "    L.get_texts()[0].set_text(\"Comic Book 1\")\n",
    "    L.get_texts()[1].set_text(\"Comic Book 2\")\n",
    "    return max(floor_prices(df)) - max(floor_prices(df1))"
   ]
  },
  {
   "cell_type": "code",
   "execution_count": 14,
   "metadata": {},
   "outputs": [
    {
     "data": {
      "text/plain": [
       "54.0"
      ]
     },
     "execution_count": 14,
     "metadata": {},
     "output_type": "execute_result"
    },
    {
     "data": {
      "image/png": "[encoded data removed]",
      "text/plain": [
       "<Figure size 432x288 with 1 Axes>"
      ]
     },
     "metadata": {
      "needs_background": "light"
     },
     "output_type": "display_data"
    }
   ],
   "source": [
    "plot_two_fp(dare, darec)"
   ]
  },
  {
   "cell_type": "code",
   "execution_count": 15,
   "metadata": {},
   "outputs": [],
   "source": [
    "def plot_comic(*args):\n",
    "    comics = []\n",
    "    count = 1\n",
    "    for df in args:\n",
    "            dates = len(floor_prices(df)) + 1\n",
    "            date_fp = df[-dates:]\n",
    "            plot = plt.plot(date_fp[date_fp.columns[::-1]])\n",
    "            comics.append(\"Comic\" + str(count))\n",
    "            count += 1\n",
    "    plt.legend(comics)\n",
    "    return comics\n",
    "    "
   ]
  },
  {
   "cell_type": "code",
   "execution_count": 16,
   "metadata": {},
   "outputs": [
    {
     "data": {
      "text/plain": [
       "['Comic1', 'Comic2', 'Comic3', 'Comic4']"
      ]
     },
     "execution_count": 16,
     "metadata": {},
     "output_type": "execute_result"
    },
    {
     "data": {
      "image/png": "[encoded data removed]",
      "text/plain": [
       "<Figure size 432x288 with 1 Axes>"
      ]
     },
     "metadata": {
      "needs_background": "light"
     },
     "output_type": "display_data"
    }
   ],
   "source": [
    "c = select_comic(new_df, \"Daredevil #1: Classic\")\n",
    "uc = select_comic(new_df, \"Daredevil #1: Vintage\")\n",
    "r = select_comic(new_df, \"Daredevil #1: Hero\")\n",
    "ur = select_comic(new_df, \"Daredevil #1: Vibranium\")\n",
    "sr = select_comic(new_df, \"Daredevil #1: True Believer\")\n",
    "\n",
    "plot_comic(c, uc, r, ur)\n"
   ]
  },
  {
   "cell_type": "code",
   "execution_count": 17,
   "metadata": {},
   "outputs": [
    {
     "data": {
      "text/plain": [
       "['Comic1', 'Comic2', 'Comic3', 'Comic4', 'Comic5']"
      ]
     },
     "execution_count": 17,
     "metadata": {},
     "output_type": "execute_result"
    },
    {
     "data": {
      "image/png": "[encoded data removed]",
      "text/plain": [
       "<Figure size 432x288 with 1 Axes>"
      ]
     },
     "metadata": {
      "needs_background": "light"
     },
     "output_type": "display_data"
    }
   ],
   "source": [
    "plot_comic(c, uc, r, ur, sr)"
   ]
  },
  {
   "cell_type": "code",
   "execution_count": 18,
   "metadata": {},
   "outputs": [
    {
     "data": {
      "text/plain": [
       "26.227272727272727"
      ]
     },
     "execution_count": 18,
     "metadata": {},
     "output_type": "execute_result"
    },
    {
     "data": {
      "image/png": "[encoded data removed]",
      "text/plain": [
       "<Figure size 432x288 with 1 Axes>"
      ]
     },
     "metadata": {
      "needs_background": "light"
     },
     "output_type": "display_data"
    }
   ],
   "source": [
    "c = select_comic(new_df, \"Fantastic Four #1: Classic\")\n",
    "ff_dare = floor_prices(c)\n",
    "plot_fp(c, ff_dare)"
   ]
  },
  {
   "cell_type": "code",
   "execution_count": null,
   "metadata": {},
   "outputs": [],
   "source": []
  },
  {
   "cell_type": "code",
   "execution_count": 20,
   "metadata": {},
   "outputs": [],
   "source": [
    "from sklearn.preprocessing import StandardScaler\n",
    "y = new_df[\"Rarity\"].to_frame()\n",
    "\n",
    "t = new_df[[\"Quantity\", \"% Gain from Veve Price\", \"% Gain from Veve Price\"]]\n",
    "x = StandardScaler().fit_transform(t)"
   ]
  },
  {
   "cell_type": "code",
   "execution_count": 21,
   "metadata": {},
   "outputs": [
    {
     "data": {
      "text/html": [
       "<div>\n",
       "<style scoped>\n",
       "    .dataframe tbody tr th:only-of-type {\n",
       "        vertical-align: middle;\n",
       "    }\n",
       "\n",
       "    .dataframe tbody tr th {\n",
       "        vertical-align: top;\n",
       "    }\n",
       "\n",
       "    .dataframe thead th {\n",
       "        text-align: right;\n",
       "    }\n",
       "</style>\n",
       "<table border=\"1\" class=\"dataframe\">\n",
       "  <thead>\n",
       "    <tr style=\"text-align: right;\">\n",
       "      <th></th>\n",
       "      <th>principal component 1</th>\n",
       "      <th>principal component 2</th>\n",
       "      <th>Rarity</th>\n",
       "    </tr>\n",
       "  </thead>\n",
       "  <tbody>\n",
       "    <tr>\n",
       "      <th>0</th>\n",
       "      <td>-0.388151</td>\n",
       "      <td>4.072747</td>\n",
       "      <td>1.0</td>\n",
       "    </tr>\n",
       "    <tr>\n",
       "      <th>1</th>\n",
       "      <td>-0.099361</td>\n",
       "      <td>-0.051398</td>\n",
       "      <td>2.0</td>\n",
       "    </tr>\n",
       "    <tr>\n",
       "      <th>2</th>\n",
       "      <td>-0.067565</td>\n",
       "      <td>-0.345206</td>\n",
       "      <td>3.0</td>\n",
       "    </tr>\n",
       "    <tr>\n",
       "      <th>3</th>\n",
       "      <td>-0.013156</td>\n",
       "      <td>-0.400634</td>\n",
       "      <td>4.0</td>\n",
       "    </tr>\n",
       "    <tr>\n",
       "      <th>4</th>\n",
       "      <td>1.252293</td>\n",
       "      <td>-0.490472</td>\n",
       "      <td>5.0</td>\n",
       "    </tr>\n",
       "    <tr>\n",
       "      <th>...</th>\n",
       "      <td>...</td>\n",
       "      <td>...</td>\n",
       "      <td>...</td>\n",
       "    </tr>\n",
       "    <tr>\n",
       "      <th>231</th>\n",
       "      <td>-0.083235</td>\n",
       "      <td>-0.420296</td>\n",
       "      <td>2.0</td>\n",
       "    </tr>\n",
       "    <tr>\n",
       "      <th>232</th>\n",
       "      <td>-0.073287</td>\n",
       "      <td>-0.542944</td>\n",
       "      <td>3.0</td>\n",
       "    </tr>\n",
       "    <tr>\n",
       "      <th>233</th>\n",
       "      <td>-0.065147</td>\n",
       "      <td>-0.591715</td>\n",
       "      <td>4.0</td>\n",
       "    </tr>\n",
       "    <tr>\n",
       "      <th>234</th>\n",
       "      <td>-0.027732</td>\n",
       "      <td>-0.613788</td>\n",
       "      <td>5.0</td>\n",
       "    </tr>\n",
       "    <tr>\n",
       "      <th>235</th>\n",
       "      <td>NaN</td>\n",
       "      <td>NaN</td>\n",
       "      <td>NaN</td>\n",
       "    </tr>\n",
       "  </tbody>\n",
       "</table>\n",
       "<p>236 rows × 3 columns</p>\n",
       "</div>"
      ],
      "text/plain": [
       "     principal component 1  principal component 2  Rarity\n",
       "0                -0.388151               4.072747     1.0\n",
       "1                -0.099361              -0.051398     2.0\n",
       "2                -0.067565              -0.345206     3.0\n",
       "3                -0.013156              -0.400634     4.0\n",
       "4                 1.252293              -0.490472     5.0\n",
       "..                     ...                    ...     ...\n",
       "231              -0.083235              -0.420296     2.0\n",
       "232              -0.073287              -0.542944     3.0\n",
       "233              -0.065147              -0.591715     4.0\n",
       "234              -0.027732              -0.613788     5.0\n",
       "235                    NaN                    NaN     NaN\n",
       "\n",
       "[236 rows x 3 columns]"
      ]
     },
     "execution_count": 21,
     "metadata": {},
     "output_type": "execute_result"
    }
   ],
   "source": [
    "from sklearn.decomposition import PCA\n",
    "pca = PCA(n_components=2)\n",
    "principalComponents = pca.fit_transform(x)\n",
    "principalDf = pd.DataFrame(data = principalComponents, columns = ['principal component 1', 'principal component 2'])\n",
    "finalDf = pd.concat([principalDf, y], axis = 1)\n",
    "finalDf[\"Rarity\"] = finalDf[\"Rarity\"].shift(-1)\n",
    "finalDf"
   ]
  },
  {
   "cell_type": "code",
   "execution_count": 22,
   "metadata": {},
   "outputs": [
    {
     "data": {
      "image/png": "[encoded data removed]",
      "text/plain": [
       "<Figure size 1080x720 with 1 Axes>"
      ]
     },
     "metadata": {
      "needs_background": "light"
     },
     "output_type": "display_data"
    }
   ],
   "source": [
    "fig = plt.figure(figsize = (15,10))\n",
    "ax = fig.add_subplot(1,1,1) \n",
    "ax.set_title('2 component PCA', fontsize = 20)\n",
    "p = [1,2,3,4,5]\n",
    "colors = ['black', 'pink',\"green\", \"red\", \"blue\"]\n",
    "for pitch, color in zip(p,colors):\n",
    "    i = finalDf['Rarity'] == pitch\n",
    "    ax.scatter(finalDf.loc[i, 'principal component 1'], finalDf.loc[i, 'principal component 2'], c = color, s = 100)\n",
    "ax.set_xlabel('Principal Component 1', fontsize = 10)\n",
    "ax.set_ylabel('Principal Component 2', fontsize = 10)\n",
    "ax.legend(p)\n",
    "ax.grid()"
   ]
  },
  {
   "cell_type": "code",
   "execution_count": null,
   "metadata": {},
   "outputs": [],
   "source": []
  },
  {
   "cell_type": "code",
   "execution_count": 23,
   "metadata": {},
   "outputs": [],
   "source": [
    "from marvel import Marvel"
   ]
  },
  {
   "cell_type": "code",
   "execution_count": 24,
   "metadata": {},
   "outputs": [],
   "source": [
    "# MY MARVEL API KEY WOULD BE HERE.\n",
    "comics = m.comics.all(limit = 100, format = \"comic\", titleStartsWith = \"Marvel Comics\", startYear = \"1939\", orderBy = \"issueNumber\")"
   ]
  },
  {
   "cell_type": "code",
   "execution_count": 59,
   "metadata": {},
   "outputs": [],
   "source": [
    "def get_comic(title, issue, year):\n",
    "    return  m.comics.all(limit = 1, format = \"comic\", titleStartsWith = str(title), startYear = str(year), issueNumber = str(issue), orderBy = \"issueNumber\")"
   ]
  },
  {
   "cell_type": "code",
   "execution_count": 60,
   "metadata": {},
   "outputs": [],
   "source": [
    "# THIS FUNCTION IS TO DOWNLOAD AN IMAGE FROM A GIVEN LINK INTO THE SERVER\n",
    "\n",
    "# PARAMETER NAMES:\n",
    "# LINK: THE LINK OF THE IMAGE\n",
    "# NAME: NAME OF THE COMIC BOOK\n",
    "\n",
    "def get_image(link, name):\n",
    "    response = requests.get(link)\n",
    "    name_link = str(name) + \".jpg\"\n",
    "    print(name_link)\n",
    "    file = open(name_link, \"wb\")\n",
    "    file.write(response.content)\n",
    "    file.close()\n",
    "    return \n",
    "\n",
    "\n",
    "def create_color2(image, name):\n",
    "#     FUNCTION: RETURNS THE MOST USED COLOR OF THE GIVEN IMAGE\n",
    "       \n",
    "#     VARIABLES\n",
    "\n",
    "#     IM: IMAGE\n",
    "#     WIDTH: WIDTH OF IMAGE\n",
    "#     HEIGHT: HEIGHT OF IMAGE\n",
    "#     ARRAY: ALL RGB VALUES OF IMAGE\n",
    "#     T, NUMBER_OF_ROWS, RANDOM_INDICES, RANDOM_ROWS: VARIABLES USED TO HELP RESHAPE ARRAY INTO TWO DIMENSIONS\n",
    "#     MEANS: CLUSTERS FROM KMEANS\n",
    "\n",
    "    im = Image.open(image)\n",
    "    pix = im.load()\n",
    "    width = im.size[0]\n",
    "    height = im.size[1]\n",
    "    array = np.array(im)\n",
    "    t = array.reshape(-1, array.shape[-1])\n",
    "    number_of_rows = t.shape[0]\n",
    "    random_indices = np.random.choice(number_of_rows, size=100, replace=False)\n",
    "    random_rows = t[random_indices, :]\n",
    "    kmeans = KMeans(n_clusters=10,random_state = 1)\n",
    "    test = kmeans.fit(random_rows)\n",
    "    means = kmeans.cluster_centers_\n",
    "    means = np.round(means,0).astype(int)\n",
    "    from collections import Counter, defaultdict\n",
    "    c = max(Counter(kmeans.labels_), key=Counter(kmeans.labels_).get)\n",
    "    return means[c]\n",
    "\n",
    "\n",
    "def get_chracter_comics2(comics):\n",
    "    \n",
    "#     FUNCTION: GETS THE DATA FROM MARVEL'S API AND CREATES THE COLOR PALETTES USING THE PREVIOUS FUNCTIONS. RETURNS THE \n",
    "#     DATAFRAME AS WELL\n",
    "       \n",
    "#     VARIABLES\n",
    "\n",
    "#     DF: DATAFRAME OF MARVEL'S API \n",
    "#     LINKS: ARRAY OF IMAGE LINKS\n",
    "#     NAME: NAME OF COMIC BOOK\n",
    "#     LINK: LINK OF IMAGE FROM SERVER\n",
    "    \n",
    "\n",
    "    df = pd.DataFrame(comics)\n",
    "    new_df = pd.DataFrame(df[\"data\"][3])[[\"title\", \"thumbnail\"]]\n",
    "    links = []\n",
    "    for x in new_df[\"thumbnail\"]:\n",
    "        links.append(re.findall(\"(?P<url>https?://[^\\s][^,']+)\", str(x)))\n",
    "    new_df[\"thumbnail\"] = links\n",
    "    for x in np.arange(len(new_df)):\n",
    "        name = str(new_df[\"title\"][x])\n",
    "        link = str(new_df[\"thumbnail\"][x][0]) + \".jpg\"\n",
    "        get_image(link, name)\n",
    "        t = create_color2(name + \".jpg\", name)    \n",
    "    return t"
   ]
  },
  {
   "cell_type": "code",
   "execution_count": 61,
   "metadata": {},
   "outputs": [
    {
     "name": "stdout",
     "output_type": "stream",
     "text": [
      "Marvel Comics (1939) #1.jpg\n"
     ]
    },
    {
     "data": {
      "text/plain": [
       "array([238, 223, 220])"
      ]
     },
     "execution_count": 61,
     "metadata": {},
     "output_type": "execute_result"
    }
   ],
   "source": [
    "comics = get_comic(\"Marvel Comics\",\"1\", \"1939\")\n",
    "test = get_chracter_comics2(comics)\n",
    "test"
   ]
  },
  {
   "cell_type": "code",
   "execution_count": null,
   "metadata": {},
   "outputs": [],
   "source": []
  },
  {
   "cell_type": "code",
   "execution_count": null,
   "metadata": {},
   "outputs": [],
   "source": []
  },
  {
   "cell_type": "code",
   "execution_count": null,
   "metadata": {},
   "outputs": [],
   "source": []
  },
  {
   "cell_type": "code",
   "execution_count": null,
   "metadata": {},
   "outputs": [],
   "source": []
  },
  {
   "cell_type": "code",
   "execution_count": null,
   "metadata": {},
   "outputs": [],
   "source": []
  },
  {
   "cell_type": "code",
   "execution_count": null,
   "metadata": {},
   "outputs": [],
   "source": []
  },
  {
   "cell_type": "code",
   "execution_count": null,
   "metadata": {},
   "outputs": [],
   "source": []
  }
 ],
 "metadata": {
  "kernelspec": {
   "display_name": "Python 3",
   "language": "python",
   "name": "python3"
  },
  "language_info": {
   "codemirror_mode": {
    "name": "ipython",
    "version": 3
   },
   "file_extension": ".py",
   "mimetype": "text/x-python",
   "name": "python",
   "nbconvert_exporter": "python",
   "pygments_lexer": "ipython3",
   "version": "3.8.5"
  }
 },
 "nbformat": 4,
 "nbformat_minor": 4
}
